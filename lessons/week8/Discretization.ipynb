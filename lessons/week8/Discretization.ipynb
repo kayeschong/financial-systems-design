{
 "cells": [
  {
   "cell_type": "code",
   "execution_count": 4,
   "metadata": {},
   "outputs": [
    {
     "name": "stdout",
     "output_type": "stream",
     "text": [
      "error1 = 0.31000000000000405\n",
      "error2 = 0.03010000000001334\n",
      "error3 = 0.0030009999997275827\n"
     ]
    }
   ],
   "source": [
    "# Approximate f(x)=x^3 with the forward difference approximation \n",
    "# at x = 1 for h = 0.1, 0.01, and 0.001\n",
    "# We know the derivatie is 3x^2; how does the error vary with h?\n",
    "def f(x):\n",
    "    return x**3\n",
    "def forward_diff(f, x, h):\n",
    "    return (f(x + h) - f(x)) / h\n",
    "\n",
    "x = 1\n",
    "error1 = forward_diff(f, x, 0.1) - 3\n",
    "error2 = forward_diff(f, x, 0.01) - 3\n",
    "error3 = forward_diff(f, x, 0.001) - 3\n",
    "print(\"error1 =\", error1)\n",
    "print(\"error2 =\", error2)\n",
    "print(\"error3 =\", error3)"
   ]
  },
  {
   "cell_type": "code",
   "execution_count": 2,
   "metadata": {},
   "outputs": [
    {
     "name": "stdout",
     "output_type": "stream",
     "text": [
      "error1 = 0.010000000000001563\n",
      "error2 = 0.0001000000000055401\n",
      "error3 = 9.999998633603013e-07\n",
      "Error decrease factors: 100 100\n"
     ]
    }
   ],
   "source": [
    "# Use f(x)=x^3 with the central difference approximation to calculate\n",
    "# the error at x = 1 for h = 0.1, 0.01, and 0.001\n",
    "# How does the error depend on h?\n",
    "def f(x):\n",
    "    return x**3\n",
    "def central_diff(f, x, h):\n",
    "    return (f(x + h) - f(x - h)) / (2 * h)\n",
    "\n",
    "x = 1\n",
    "error1 = central_diff(f, x, 0.1) - 3\n",
    "error2 = central_diff(f, x, 0.01) - 3\n",
    "error3 = central_diff(f, x, 0.001) - 3\n",
    "print(\"error1 =\", error1)\n",
    "print(\"error2 =\", error2)\n",
    "print(\"error3 =\", error3)\n",
    "decrease_factor1 = round(error1 / error2)\n",
    "decrease_factor2 = round(error2 / error3)\n",
    "print(\"Error decrease factors:\", decrease_factor1, decrease_factor2)\n",
    "# The error decreases quadratically as a function of h."
   ]
  },
  {
   "cell_type": "code",
   "execution_count": 4,
   "metadata": {},
   "outputs": [
    {
     "name": "stdout",
     "output_type": "stream",
     "text": [
      "Fwd diff error decrease factors: 10 10\n",
      "Central diff error1 = 4.440892098500626e-16\n",
      "Central diff error2 = 1.7763568394002505e-15\n",
      "Central diff error3 = -1.6475709685437323e-13\n"
     ]
    }
   ],
   "source": [
    "# Now try f(x) = x^2 at x=1 with both the forward and central difference\n",
    "# approximations; what happens to the error for the latter?\n",
    "def f(x):\n",
    "    return x**2\n",
    "def forward_diff(f, x, h):\n",
    "    return (f(x + h) - f(x)) / h\n",
    "def central_diff(f, x, h):\n",
    "    return (f(x + h) - f(x - h)) / (2 * h)\n",
    "\n",
    "x = 1\n",
    "ferror1 = forward_diff(f, x, 0.1) - 2\n",
    "ferror2 = forward_diff(f, x, 0.01) - 2\n",
    "ferror3 = forward_diff(f, x, 0.001) - 2\n",
    "decrease_factor1 = round(ferror1 / ferror2)\n",
    "decrease_factor2 = round(ferror2 / ferror3)\n",
    "print(\"Fwd diff error decrease factors:\", decrease_factor1, decrease_factor2)\n",
    "\n",
    "cerror1 = central_diff(f, x, 0.1) - 2\n",
    "cerror2 = central_diff(f, x, 0.01) - 2\n",
    "cerror3 = central_diff(f, x, 0.001) - 2\n",
    "print(\"Central diff error1 =\", cerror1)\n",
    "print(\"Central diff error2 =\", cerror2)\n",
    "print(\"Central diff error3 =\", cerror3)\n",
    "\n",
    "# The central difference errors are all essentially zero."
   ]
  },
  {
   "cell_type": "code",
   "execution_count": 4,
   "metadata": {},
   "outputs": [
    {
     "data": {
      "image/png": "[encoded data removed]",
      "text/plain": [
       "<Figure size 432x288 with 1 Axes>"
      ]
     },
     "metadata": {
      "needs_background": "light"
     },
     "output_type": "display_data"
    }
   ],
   "source": [
    "# Generate a vector x of 101 equally spaced points between -2 and 2.\n",
    "# Let f(x) = x * exp(-x^2) in a vector y.\n",
    "# Create a vector z which approximates f’(x) at all but the end points\n",
    "# using central differencing.\n",
    "# Plot the difference between the actual derivative and this approximation.\n",
    "# Repeat using 501 equally spaced points between -2 and 2.\n",
    "\n",
    "%matplotlib inline\n",
    "import numpy as np\n",
    "import matplotlib.pyplot as plt\n",
    "\n",
    "def central_diffs(y, h):\n",
    "    #z = np.array( [y[i + 2] - y[i] for i in range(y.shape[0] - 2)] )\n",
    "    z = y[2:] - y[:-2]\n",
    "    return z / (2 * h)\n",
    "\n",
    "num_points = 501   # Try 101 and 501\n",
    "x = np.linspace(-2, 2, num_points)\n",
    "y = x * np.exp(-x**2)\n",
    "h = 4 / (num_points - 1)\n",
    "z_approx = central_diffs(y, h)\n",
    "x2 = x[1:-1]   # Exclude both endpoints\n",
    "z_exact = np.exp(-x2**2) * (1 - 2*x2**2)\n",
    "plt.plot(x2, z_approx - z_exact);\n",
    "plt.title(r'Central Difference Error for $f(x) = x * \\exp(-x^2)$');"
   ]
  },
  {
   "cell_type": "code",
   "execution_count": 8,
   "metadata": {},
   "outputs": [
    {
     "name": "stdout",
     "output_type": "stream",
     "text": [
      "error1 = 4.884981308350689e-14\n",
      "error2 = 1.55964130499342e-12\n",
      "error3 = -2.715552227527951e-10\n"
     ]
    }
   ],
   "source": [
    "# For f(x) = x^3, apply this approximation for a second derivative:\n",
    "# f(x-h) - 2f(x) + f(x+h) / h^2\n",
    "# and compare the result to the actual second derivative.\n",
    "def f(x):\n",
    "    return x**3\n",
    "def second_deriv_approx(f, x, h):\n",
    "    return (f(x - h) - 2 * f(x) + f(x + h)) / (h * h)\n",
    "\n",
    "x = 1\n",
    "sderror1 = second_deriv_approx(f, x, 0.1) - 6\n",
    "sderror2 = second_deriv_approx(f, x, 0.01) - 6\n",
    "sderror3 = second_deriv_approx(f, x, 0.001) - 6\n",
    "print(\"error1 =\", sderror1)\n",
    "print(\"error2 =\", sderror2)\n",
    "print(\"error3 =\", sderror3)\n",
    "\n",
    "# The central difference errors are all essentially zero."
   ]
  },
  {
   "cell_type": "code",
   "execution_count": 2,
   "metadata": {},
   "outputs": [
    {
     "data": {
      "image/png": "[encoded data removed]",
      "text/plain": [
       "<Figure size 432x288 with 1 Axes>"
      ]
     },
     "metadata": {
      "needs_background": "light"
     },
     "output_type": "display_data"
    }
   ],
   "source": [
    "import math\n",
    "import numpy as np\n",
    "import matplotlib.pyplot as plt\n",
    "from scipy.sparse import diags \n",
    "# diags helps construct a sparse matrix by providing the diagonal values\n",
    "# read more about it on Scipy ref pages as we will use it later in the course\n",
    "# https://docs.scipy.org/doc/scipy/reference/generated/scipy.sparse.diags.html\n",
    "\n",
    "# creating the function f(x) = xe^(-x^2)\n",
    "def f(x):\n",
    "    return x*np.exp(-x**2)\n",
    "\n",
    "# creating the function f'(x) = (1-2x^2)e^(-x^2)\n",
    "def fp(x):\n",
    "    return (1-2*x**2)*np.exp(-x**2) \n",
    "\n",
    "def gen_matrix(N):\n",
    "    # create matrix diagonals\n",
    "    d0 = np.zeros(N+1); d0[0] = -3.; d0[-1] = 3.\n",
    "    d1 = np.ones(N); d1[0] = 4.\n",
    "    dm1 = -np.ones(N); dm1[-1] = -4.\n",
    "    d2 = np.zeros(N-1); d2[0] = -1.\n",
    "    dm2 = np.zeros(N-1); dm2[-1] = 1.\n",
    "    return diags([dm2,dm1,d0,d1,d2],[-2,-1,0,1,2], shape=(N+1,N+1), dtype=float)\n",
    "\n",
    "N = 400; a = -2; b = 2\n",
    "x = np.linspace(a,b,N+1)\n",
    "y = f(x)\n",
    "h = (b-a)/N\n",
    "A = gen_matrix(N)\n",
    "fp_estd = A @ y / (2.*h)\n",
    "fp_actual = fp(x)\n",
    "plt.plot(x,fp_estd,x,fp_actual);"
   ]
  },
  {
   "cell_type": "code",
   "execution_count": null,
   "metadata": {},
   "outputs": [],
   "source": []
  }
 ],
 "metadata": {
  "kernelspec": {
   "display_name": "Python 3",
   "language": "python",
   "name": "python3"
  },
  "language_info": {
   "codemirror_mode": {
    "name": "ipython",
    "version": 3
   },
   "file_extension": ".py",
   "mimetype": "text/x-python",
   "name": "python",
   "nbconvert_exporter": "python",
   "pygments_lexer": "ipython3",
   "version": "3.7.6"
  }
 },
 "nbformat": 4,
 "nbformat_minor": 2
}
