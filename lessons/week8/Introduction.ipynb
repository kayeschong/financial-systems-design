{
 "cells": [
  {
   "cell_type": "markdown",
   "metadata": {},
   "source": [
    "# Here is a \"level 1\" header using Markdown syntax\n",
    "## Here is a \"level 2\" header\n",
    "### And here is a \"level 3\" header -- Markdown supports up to 6 levels\n",
    "* It's easy to put words into **boldface** or *italic*\n",
    "* And you include HTML escape characters &lt; just as you would in HTML itself &gt;\n",
    "* For a complete description of Markdown syntax, click [here](http://daringfireball.net/projects/markdown/syntax)"
   ]
  },
  {
   "cell_type": "code",
   "execution_count": 10,
   "metadata": {},
   "outputs": [
    {
     "name": "stdout",
     "output_type": "stream",
     "text": [
      "1.1102230246251565e-16\n"
     ]
    }
   ],
   "source": [
    "# Let's find out the machine precision\n",
    "x = 1\n",
    "while 1+x > 1:\n",
    "    x = x/2\n",
    "print(x)"
   ]
  },
  {
   "cell_type": "code",
   "execution_count": 11,
   "metadata": {},
   "outputs": [
    {
     "data": {
      "text/plain": [
       "True"
      ]
     },
     "execution_count": 11,
     "metadata": {},
     "output_type": "execute_result"
    }
   ],
   "source": [
    "# Use cmath (complex math) functions to show that\n",
    "# (5 + i)^4(239 - i) = 2^2(13^4)(1 + i).\n",
    "lhs = (5 + 1j)**4 * (239 - 1j)\n",
    "rhs = 4 * 13**4 * (1 + 1j)\n",
    "lhs == rhs"
   ]
  },
  {
   "cell_type": "code",
   "execution_count": 12,
   "metadata": {},
   "outputs": [
    {
     "name": "stdout",
     "output_type": "stream",
     "text": [
      "Eigenvalue: 21.0, Eigenvector: [-0.16222142 -0.16222142 -0.97332853]\n",
      "[ -3.40664984  -3.40664984 -20.43989906]\n",
      "Eigenvalue: 0.9999999999999999, Eigenvector: [-7.07106781e-01  7.07106781e-01 -1.44466684e-16]\n",
      "[-7.07106781e-01  7.07106781e-01  1.99564762e-15]\n",
      "Eigenvalue: 2.000000000000001, Eigenvector: [-0.6882472  -0.6882472   0.22941573]\n",
      "[-1.3764944  -1.3764944   0.45883147]\n"
     ]
    }
   ],
   "source": [
    "# Use NumPy to find all the eigenvectors and eigenvalues of\n",
    "# the 3x3 matrix [[2 1 3] [1 2 3] [3 3 20]].\n",
    "import numpy as np\n",
    "from numpy.linalg import eig\n",
    "A = np.array([[2, 1, 3], [1, 2, 3], [3, 3, 20]])\n",
    "eigvals, eigvecs = eig(A)\n",
    "for i in range(eigvals.shape[0]):\n",
    "    print(\"Eigenvalue: \", eigvals[i], \", Eigenvector: \", eigvecs[:,i], sep='')\n",
    "    print(np.dot(A,eigvecs[:,i]))"
   ]
  },
  {
   "cell_type": "code",
   "execution_count": 15,
   "metadata": {},
   "outputs": [
    {
     "data": {
      "text/plain": [
       "Text(0.5, 1.0, '$f(x) = x * \\\\exp(x)$')"
      ]
     },
     "execution_count": 15,
     "metadata": {},
     "output_type": "execute_result"
    },
    {
     "data": {
      "image/png": "[encoded data removed]",
      "text/plain": [
       "<Figure size 432x288 with 1 Axes>"
      ]
     },
     "metadata": {
      "needs_background": "light"
     },
     "output_type": "display_data"
    }
   ],
   "source": [
    "# Create a vector, called x, of points from 0 to 10, with a step size of 0.01.\n",
    "# Create a new vector, called y, that has y(i) = x(i)*exp(x(i)).\n",
    "# Plot x versus y.\n",
    "\n",
    "# That the leading '%' sign means the following command is an instruction\n",
    "# for Jupyter, not for Python:\n",
    "# %matplotlib inline will make the plot outputs appear and stored within the notebook instead of appearing as a code dump\n",
    "\n",
    "%matplotlib inline \n",
    "\n",
    "import numpy as np\n",
    "import matplotlib.pyplot as plt\n",
    "\n",
    "num_points = int(10 / 0.01) + 1\n",
    "x = np.linspace(0, 10, num_points)\n",
    "y = x * np.exp(x) #remember to use numpy functions for dealing with numpy arrays\n",
    "plt.plot(x, y)\n",
    "plt.title(r'$f(x) = x * \\exp(x)$')"
   ]
  },
  {
   "cell_type": "code",
   "execution_count": 19,
   "metadata": {},
   "outputs": [
    {
     "data": {
      "text/plain": [
       "Text(0.5, 1.0, 'Histogram of Standard Lognormal Distribution')"
      ]
     },
     "execution_count": 19,
     "metadata": {},
     "output_type": "execute_result"
    },
    {
     "data": {
      "image/png": "[encoded data removed]",
      "text/plain": [
       "<Figure size 432x288 with 1 Axes>"
      ]
     },
     "metadata": {
      "needs_background": "light"
     },
     "output_type": "display_data"
    }
   ],
   "source": [
    "# Create a vector of 50000 random samples from a lognormal distribution\n",
    "# whose underlying normal distribution has µ=0 and σ=1.\n",
    "# Plot a histogram of it using 500 bins.\n",
    "\n",
    "%matplotlib inline\n",
    "import numpy as np\n",
    "import matplotlib.mlab as mlab\n",
    "import matplotlib.pyplot as plt\n",
    "\n",
    "num_samples = 50000\n",
    "num_bins = 500\n",
    "x = np.random.lognormal(mean=0.0, sigma=1.0, size=((num_samples)))\n",
    "n, bins, patches = plt.hist(x, num_bins, density=True)\n",
    "\n",
    "# When density=True, the heights of the bins are normalised to ensure the integral of the histogram is 1 \n",
    "# hence the resulting histogram is a probability density\n",
    "\n",
    "plt.title('Histogram of Standard Lognormal Distribution')"
   ]
  },
  {
   "cell_type": "code",
   "execution_count": null,
   "metadata": {},
   "outputs": [],
   "source": []
  }
 ],
 "metadata": {
  "anaconda-cloud": {},
  "kernelspec": {
   "display_name": "Python 3",
   "language": "python",
   "name": "python3"
  },
  "language_info": {
   "codemirror_mode": {
    "name": "ipython",
    "version": 3
   },
   "file_extension": ".py",
   "mimetype": "text/x-python",
   "name": "python",
   "nbconvert_exporter": "python",
   "pygments_lexer": "ipython3",
   "version": "3.7.7"
  }
 },
 "nbformat": 4,
 "nbformat_minor": 1
}
