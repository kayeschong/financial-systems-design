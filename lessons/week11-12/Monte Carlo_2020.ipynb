{
 "cells": [
  {
   "cell_type": "code",
   "execution_count": 23,
   "metadata": {},
   "outputs": [
    {
     "name": "stdout",
     "output_type": "stream",
     "text": [
      "[False False  True ...  True  True False]\n",
      "[3. 2. 2. ... 2. 2. 1.]\n",
      "[3. 2. 3. ... 2. 1. 2.]\n",
      "[1. 1. 3. ... 2. 1. 3.]\n",
      "Percentage of games won by staying: 33.4%\n",
      "Percentage of games won by switching: 66.6%\n"
     ]
    }
   ],
   "source": [
    "import numpy as np\n",
    "\n",
    "# switchdoor function takes in the door numbers of the contestant's door choice \n",
    "# and the door number with the prize and returns the door number\n",
    "# that will be offered as a switch\n",
    "# Scenario 1: The door chosen holds the prize then the host can choose any of the 2 remaining doors for switching\n",
    "# Scenario 2: The door chosen does not hold the prize then only the door with the prize can be offered as a switch\n",
    "\n",
    "def switchdoor(choice, prize):   # choice & prize are numpy arrays with elements 1, 2 or 3 representing door numbers\n",
    "    switch = choice.copy()       # switch will be an array of the same size to contain the results\n",
    "    \n",
    "    # scenario 1\n",
    "    print(choice==prize)\n",
    "    print(switch[choice==prize])\n",
    "    switch[choice==prize] = np.mod(choice[choice==prize],3) + 1   # maps 1=>2, 2=>3, 3=>1\n",
    "    \n",
    "    # scenario 2\n",
    "    switch[~(choice==prize)] = prize[~(choice==prize)]            # only choice is the door with the prize \n",
    "    \n",
    "    return switch\n",
    "\n",
    "# simulation\n",
    "\n",
    "N = 1000000  # number of simulations\n",
    "\n",
    "prng = np.random.RandomState()          # pseudo-random number generator for numpy arrays\n",
    "prize = np.ceil(prng.uniform(0,3,N))    # randomly choose door with prize -> array of size N with elements 1, 2 or 3\n",
    "choice = np.ceil(prng.uniform(0,3,N))   # randomly select initial choice\n",
    "switch = switchdoor(choice, prize)      # find the door offered for switch\n",
    "print(choice)\n",
    "print(prize)\n",
    "\n",
    "stay_win = prize == choice      # stay_win = array of true/false elements -> true if contestant chooses stays and wins\n",
    "stay_win_rate = len(stay_win[stay_win == True]) / N        # win rate i.e win probability if contestant does not switch\n",
    "\n",
    "switch_win = switch == prize    # switch_win = array of true/false elements -> true if contestant chooses switches and wins\n",
    "switch_win_rate = len(switch_win[switch_win == True]) / N  # win probability if contestant switches also = 1-stay_win_rate\n",
    "\n",
    "print('Percentage of games won by staying: {:.1%}'.format(stay_win_rate))\n",
    "print('Percentage of games won by switching: {:.1%}'.format(switch_win_rate))"
   ]
  },
  {
   "cell_type": "code",
   "execution_count": 6,
   "metadata": {},
   "outputs": [
    {
     "name": "stdout",
     "output_type": "stream",
     "text": [
      "Single engine: total iterations = 10 Px=0.1661 Std err = 0.1661 \n",
      "\n",
      "[239.98455905  90.75722478 206.08223524 101.71205052  76.09804941\n",
      " 126.81191129  76.77791301 138.33233864 167.84900725  86.66266459] \n",
      "\n",
      "[0.         0.         0.         1.66145178 0.         0.\n",
      " 0.         0.         0.         0.        ] \n",
      "\n"
     ]
    }
   ],
   "source": [
    "%reset -f\n",
    "\n",
    "import math\n",
    "import numpy as np\n",
    "\n",
    "# function that takes the parameters for pricing a option and the number of iterations required in the simulation\n",
    "# returns the sum of the simulated option prices and the variance of the sample\n",
    "\n",
    "def MC_BS_EKO_Call(S0,K,B,T,σ,r,it,display=False):\n",
    "  \n",
    "    # Step 1: Use random number generators to simulate asset price paths using Risk Neutral probabilities    \n",
    "    Z = math.sqrt(T)*np.random.standard_normal(it)  # generates normal random variables for the GBM process\n",
    "    S = S0*np.exp((r-0.5*σ**2)*T + σ*Z)             # simulates an array of final prices of asset at maturity of option\n",
    "\n",
    "    # Step 2: Compute final value of derivative based on the payoff of the derivative\n",
    "    KO = S<B                                        # generates an array of True=1 and False=0 based on barrier condition\n",
    "    V = math.exp(-r*T)*np.maximum(S-K,0)*KO         # generate array of option payoff with asset price & barrier condition\n",
    "    return S, V\n",
    "\n",
    "S0 = 120.; K = 100.; B = 120.; T = 1.5; r = 0.02; σ = 0.3    # parameters\n",
    "\n",
    "N = 10     # number of simulations\n",
    "\n",
    "S, V = MC_BS_EKO_Call(S0,K,B,T,σ,r,N,True) \n",
    "\n",
    "# Step 3: With a suitable number of simulations, compute the discounted expected value through averaging\n",
    "price = np.average(V)\n",
    "stderr = np.std(V, ddof=1) / N**0.5   \n",
    "\n",
    "# ddof = Delta Degrees of Freedom \n",
    "# the divisor used in calculations is N - ddof, where N represents the number of elements\n",
    "# by default ddof is zero.\n",
    "\n",
    "print('Single engine: total iterations =', N, 'Px={:.4}'.format(price), 'Std err = {:.4}'.format(stderr), '\\n')\n",
    "print(S, '\\n')\n",
    "print(V, '\\n')"
   ]
  },
  {
   "cell_type": "code",
   "execution_count": 3,
   "metadata": {},
   "outputs": [
    {
     "name": "stdout",
     "output_type": "stream",
     "text": [
      "Number of cores on this PC: 12\n"
     ]
    }
   ],
   "source": [
    "# First of all, how many cores are available on this PC?\n",
    "import multiprocessing\n",
    "print(\"Number of cores on this PC:\", multiprocessing.cpu_count())"
   ]
  },
  {
   "cell_type": "code",
   "execution_count": 9,
   "metadata": {},
   "outputs": [
    {
     "name": "stdout",
     "output_type": "stream",
     "text": [
      "[0, 1, 2, 3, 4, 5, 6, 7, 8, 9]\n"
     ]
    },
    {
     "data": {
      "text/plain": [
       "['Hello world',\n",
       " 'Hello world',\n",
       " 'Hello world',\n",
       " 'Hello world',\n",
       " 'Hello world',\n",
       " 'Hello world',\n",
       " 'Hello world',\n",
       " 'Hello world',\n",
       " 'Hello world',\n",
       " 'Hello world']"
      ]
     },
     "execution_count": 9,
     "metadata": {},
     "output_type": "execute_result"
    }
   ],
   "source": [
    "# To get started with ipyparallel:\n",
    "# 1) At an Anaconda command prompt, enter:\n",
    "#    conda install ipyparallel or pip install ipyparallel\n",
    "# 2) Still at the Anaconda command prompt, enter:\n",
    "#    ipcluster start -n <# of engines for parallel processing>\n",
    "#    to start the controller and # engines\n",
    "# 3) Wait until you see this message:\n",
    "#    \"Engines appear to have started successfully\"\n",
    "# 4) Verify everything is working with a Hello, World example:\n",
    "\n",
    "import ipyparallel as ipp\n",
    "# The client connects to the cluster of “remote” engines that perfrom the actual computation\n",
    "# These engines may be on the same machine or on a cluster\n",
    "rc = ipp.Client() \n",
    "\n",
    "# prints the id of the engines\n",
    "print(rc.ids)\n",
    "\n",
    "# send the job to all engines\n",
    "rc[:].apply_sync(lambda : 'Hello world')\n",
    "\n",
    "# N.B. A really useful reference for learning ipyparallel:\n",
    "# http://people.duke.edu/~ccc14/sta-663-2016/19C_IPyParallel.html"
   ]
  },
  {
   "cell_type": "code",
   "execution_count": 10,
   "metadata": {},
   "outputs": [
    {
     "data": {
      "text/plain": [
       "[0, 3, 6, 9, 12, 15, 18, 21, 24, 27]"
      ]
     },
     "execution_count": 10,
     "metadata": {},
     "output_type": "execute_result"
    }
   ],
   "source": [
    "# A view provides access to a subset of the engines available to the client\n",
    "# Jobs are submitted to the engines via the view\n",
    "# A direct view allows the user to explicitly send work specific engines\n",
    "dview = rc[:]\n",
    "\n",
    "# map takes a function and iterable and sync blocks the result until all executions are complete\n",
    "dview.map_sync(lambda x, y, z: x + y + z, range(10), range(10), range(10))"
   ]
  },
  {
   "cell_type": "code",
   "execution_count": 11,
   "metadata": {},
   "outputs": [
    {
     "name": "stdout",
     "output_type": "stream",
     "text": [
      "Wall time: 1.64 s\n",
      "sync will block subsequent execution until computation is complete\n",
      "149999985000000\n",
      "test\n"
     ]
    }
   ],
   "source": [
    "N = 10000000\n",
    "\n",
    "%time res = dview.map_sync(lambda x, y, z: x + y + z, range(N), range(N), range(N))\n",
    "print('sync will block subsequent execution until computation is complete')\n",
    "print(sum(res))\n",
    "print('test')"
   ]
  },
  {
   "cell_type": "code",
   "execution_count": 12,
   "metadata": {},
   "outputs": [
    {
     "name": "stdout",
     "output_type": "stream",
     "text": [
      "Wall time: 132 ms\n",
      "async will allow subsequent execution\n",
      "149999985000000\n",
      "until it hits a job that requires the result from the async job\n"
     ]
    }
   ],
   "source": [
    "%time res = dview.map_async(lambda x, y, z: x + y + z, range(N), range(N), range(N))\n",
    "print('async will allow subsequent execution')\n",
    "print(sum(res))\n",
    "print('until it hits a job that requires the result from the async job')"
   ]
  },
  {
   "cell_type": "code",
   "execution_count": 13,
   "metadata": {},
   "outputs": [
    {
     "data": {
      "text/plain": [
       "[array([0.64092159, 0.75206439, 0.74750588, 0.28503196]),\n",
       " array([0.26599136, 0.78577109, 0.665103  , 0.40733447]),\n",
       " array([0.16512039, 0.64637858, 0.0060733 , 0.99312404]),\n",
       " array([0.99537792, 0.91740923, 0.56202473, 0.91835319]),\n",
       " array([0.50852651, 0.6661215 , 0.46786153, 0.27448539]),\n",
       " array([0.84170457, 0.40154229, 0.07270997, 0.92003936]),\n",
       " array([0.05809467, 0.81189237, 0.46823814, 0.59546814]),\n",
       " array([0.98103628, 0.42860423, 0.11474032, 0.90191469]),\n",
       " array([0.83785597, 0.55404756, 0.71402814, 0.50664071]),\n",
       " array([0.80222832, 0.55873752, 0.51555767, 0.91675295])]"
      ]
     },
     "execution_count": 13,
     "metadata": {},
     "output_type": "execute_result"
    }
   ],
   "source": [
    "from ipyparallel import require\n",
    "\n",
    "# sync all executions\n",
    "dview.block = True \n",
    "\n",
    "# The \"@remote\" decorator creates functions which will execute simultaneously on every engine in a view.\n",
    "@dview.remote()\n",
    "\n",
    "# The \"require\" decorator forces the remote engine to import the packages we specify.\n",
    "@require('numpy')\n",
    "\n",
    "def f(n):\n",
    "    return numpy.random.rand(n)\n",
    "\n",
    "f(4)"
   ]
  },
  {
   "cell_type": "code",
   "execution_count": 15,
   "metadata": {},
   "outputs": [
    {
     "name": "stdout",
     "output_type": "stream",
     "text": [
      "importing numpy on engine(s)\n"
     ]
    },
    {
     "data": {
      "text/plain": [
       "[array([0.39084664, 0.35431275, 0.9917086 , 0.9239779 ]),\n",
       " array([0.15152262, 0.01598993, 0.07119199, 0.42848098]),\n",
       " array([0.94351683, 0.82293742, 0.41531075, 0.43453284]),\n",
       " array([0.94924306, 0.35638428, 0.55955577, 0.9261667 ]),\n",
       " array([0.64074127, 0.30005341, 0.83994591, 0.43484244]),\n",
       " array([0.30606774, 0.08005297, 0.35024904, 0.01267733]),\n",
       " array([0.28146231, 0.51602499, 0.75748782, 0.06421561]),\n",
       " array([0.20340654, 0.37026221, 0.07219586, 0.43831032]),\n",
       " array([0.41282971, 0.05039569, 0.34784081, 0.41015774]),\n",
       " array([0.78779674, 0.310394  , 0.01116404, 0.36760427])]"
      ]
     },
     "execution_count": 15,
     "metadata": {},
     "output_type": "execute_result"
    }
   ],
   "source": [
    "# using sync_imports to import numpy on all engines\n",
    "with dview.sync_imports():\n",
    "    import numpy \n",
    "\n",
    "# px is a magic command that executes a single command to all engines\n",
    "%px np = numpy # renaming\n",
    "\n",
    "def f(n):\n",
    "    n = n\n",
    "    return np.random.rand(n)\n",
    "\n",
    "dview.apply_sync(f,4)"
   ]
  },
  {
   "cell_type": "code",
   "execution_count": 1,
   "metadata": {},
   "outputs": [],
   "source": [
    "%reset -f\n",
    "\n",
    "import ipyparallel as ipp\n",
    "import multiprocessing as mp\n",
    "import numpy as np\n",
    "import math\n",
    "\n",
    "rc = ipp.Client()\n",
    "dview = rc[:]"
   ]
  },
  {
   "cell_type": "code",
   "execution_count": 2,
   "metadata": {},
   "outputs": [],
   "source": [
    "S0 = 120.; K = 100.; B = 120.; T = 1.5; r = 0.02; σ = 0.3 # parameters\n",
    "n_engs = len(rc) # number of engines running"
   ]
  },
  {
   "cell_type": "code",
   "execution_count": 3,
   "metadata": {},
   "outputs": [],
   "source": [
    "# function that takes the parameters for pricing a option and the number of iterations required in the simulation\n",
    "# returns the sum of the simulated option prices and the variance of the sample\n",
    "\n",
    "def MC_BS_EKO_Call_v1(S0,K,B,T,σ,r,it,display=False):\n",
    "    import math, numpy as np                          # another way to ensure modules are imported\n",
    "    Z = math.sqrt(T)*np.random.standard_normal(it)    # generates normal random variables for the GBM\n",
    "    S = S0*np.exp((r-0.5*σ**2)*T + σ*Z)               # simulates an array of final prices of asset at maturity of option\n",
    "    KO = S<B                                          # generates an array of True=1 and False=0 based on barrier condition\n",
    "    V = math.exp(-r*T)*np.maximum(S-K,0)*KO           # generates the array of option payoff based on final asset price\n",
    "    return V"
   ]
  },
  {
   "cell_type": "code",
   "execution_count": 4,
   "metadata": {},
   "outputs": [
    {
     "name": "stdout",
     "output_type": "stream",
     "text": [
      "Single engine: total iterations = 10000000 Px=1.847 Std err = 0.001422\n",
      "Wall time: 754 ms\n"
     ]
    }
   ],
   "source": [
    "%%time\n",
    "\n",
    "# Entire simulation on a single engine \n",
    "\n",
    "N = 10000000\n",
    "\n",
    "V = MC_BS_EKO_Call_v1(S0,K,B,T,σ,r,N,True) \n",
    "price = np.average(V)\n",
    "stderr = np.std(V, ddof=1) / N**0.5\n",
    "\n",
    "# ddof = Delta Degrees of Freedom \n",
    "# the divisor used in calculations is N - ddof, where N represents the number of elements\n",
    "# by default ddof is zero.\n",
    "\n",
    "print('Single engine: total iterations =', N, 'Px={:.4}'.format(price), 'Std err = {:.4}'.format(stderr))"
   ]
  },
  {
   "cell_type": "code",
   "execution_count": 5,
   "metadata": {},
   "outputs": [
    {
     "name": "stdout",
     "output_type": "stream",
     "text": [
      "Wall time: 7.51 s\n",
      "Wall time: 50.9 ms\n",
      "Wall time: 106 ms\n",
      "10 engines: total iterations = 10000000 Px=1.846 Std err = 0.001422\n",
      "Wall time: 7.67 s\n"
     ]
    }
   ],
   "source": [
    "%%time\n",
    "\n",
    "# The same simulation split across the available engines:\n",
    "# Since we are blocking until every result has come back, these timings\n",
    "# will always reflect the performance of the slowest engine.\n",
    "\n",
    "N_per_eng = int(N / n_engs) # number of iterations per engine\n",
    "\n",
    "%time result = dview.apply_sync(MC_BS_EKO_Call_v1,S0,K,B,T,σ,r,N_per_eng) # returns all the results in an array of arrays\n",
    "%time price = np.average(result) \n",
    "%time stderr = np.std(result, ddof=1)/N**0.5\n",
    "\n",
    "print(n_engs, 'engines: total iterations =',N_per_eng*n_engs,'Px={:.4}'.format(price),'Std err = {:.4}'.format(stderr))"
   ]
  },
  {
   "cell_type": "code",
   "execution_count": 6,
   "metadata": {},
   "outputs": [],
   "source": [
    "# Although it is simpler to only return all the arrays from each engine\n",
    "# and calculate the price using average and variance on the combined set,\n",
    "# it is a costly operation to 1) return the large arrays and 2) compute the \n",
    "# average and variance combined set\n",
    "\n",
    "# let's redefine the function to return just 2 numbers: \n",
    "# average and variance of the sample for each engine\n",
    "\n",
    "def MC_BS_EKO_Call_v2(S0,K,B,T,σ,r,it:int=1000000):\n",
    "    import math, numpy as np\n",
    "    Z = math.sqrt(T)*np.random.standard_normal(it)\n",
    "    S = S0*np.exp((r-0.5*σ**2)*T + σ*Z)\n",
    "    KO = S<B\n",
    "    V = math.exp(-r*T)*np.maximum(S-K,0)*KO\n",
    "    return (np.average(V), np.var(V))"
   ]
  },
  {
   "cell_type": "code",
   "execution_count": 15,
   "metadata": {},
   "outputs": [
    {
     "name": "stdout",
     "output_type": "stream",
     "text": [
      "Single engine: total iterations = 1000000 Px=1.846 Std err = 0.004494\n",
      "Wall time: 118 ms\n"
     ]
    }
   ],
   "source": [
    "%%time\n",
    "\n",
    "# Recoding entire simulation on a single engine based on function returning average and variance\n",
    "N=1000000\n",
    "\n",
    "(V, var) = MC_BS_EKO_Call_v2(S0,K,B,T,σ,r,N_per_eng*n_engs) \n",
    "price = V\n",
    "stderr = math.sqrt(var / (N-1))\n",
    "# note np.var = sum(x_i-x_bar)^2 / N and stderr = sqrt[(sum(x_i-x_bar)^2 / N-1) / N] = sqrt[np.var/N-1]\n",
    "\n",
    "print('Single engine: total iterations =', N, 'Px={:.4}'.format(price), 'Std err = {:.4}'.format(stderr))"
   ]
  },
  {
   "cell_type": "code",
   "execution_count": 9,
   "metadata": {},
   "outputs": [
    {
     "name": "stdout",
     "output_type": "stream",
     "text": [
      "Wall time: 215 ms\n",
      "[(1.8414765210124768, 20.170414971733138), (1.8470093569664014, 20.19142864593645), (1.841066363050665, 20.137012887842776), (1.842063310288634, 20.15703869834173), (1.849635826044783, 20.256095809844727), (1.8489134038191557, 20.235744878779293), (1.8512317013429915, 20.221690623910042), (1.8492052532887773, 20.25211793301807), (1.8473822538295228, 20.236816941268927), (1.84741809613775, 20.20089106215116)]\n",
      "[1.8414765210124768, 1.8470093569664014, 1.841066363050665, 1.842063310288634, 1.849635826044783, 1.8489134038191557, 1.8512317013429915, 1.8492052532887773, 1.8473822538295228, 1.84741809613775]\n",
      "10 engines: total iterations = 10000000 Px=1.847 Std err = 0.001421\n",
      "Wall time: 216 ms\n"
     ]
    }
   ],
   "source": [
    "%%time\n",
    "\n",
    "# Recoding simulation across multiple engines based on function returning average and variance\n",
    "\n",
    "%time result = dview.apply_sync(MC_BS_EKO_Call_v2,S0,K,B,T,σ,r,N_per_eng)\n",
    "print(result)\n",
    "\n",
    "px = [x[0] for x in result]   # extracts all the averages of each engine's sample\n",
    "print(px)\n",
    "price = np.average(px)\n",
    "\n",
    "# calculation of the standard error will be more complicated as we do not have the full sample\n",
    "# it will require a piecewise calculation using the individual sample's mean and variance\n",
    "# to get the total combined sample variance and hence standard error\n",
    "# refer to the lecture slides on the formula to calculate the combined sample variance\n",
    "\n",
    "φ = sum(var[1] for var in result)*N_per_eng                         # sum of numerators of variance for each engine's sample\n",
    "for i in range(1, n_engs):                      \n",
    "    φ += N_per_eng*i/(i+1)*(px[i] - np.average(px[:i]))**2          # loop to add the incremental adjustment factors \n",
    "\n",
    "stderr = math.sqrt((φ / (N-1)) / N) # calculate standard error using φ\n",
    "\n",
    "print(n_engs, 'engines: total iterations =',N_per_eng*n_engs,'Px={:.4}'.format(price),'Std err = {:.4}'.format(stderr))"
   ]
  },
  {
   "cell_type": "code",
   "execution_count": 28,
   "metadata": {},
   "outputs": [
    {
     "name": "stdout",
     "output_type": "stream",
     "text": [
      "[[-1.09920212  0.02814617 -0.60049384  1.2119334 ]\n",
      " [-0.23518205  0.38094641 -0.24474343 -0.99516516]\n",
      " [ 0.20904668 -0.25698729  0.10653497 -0.76020456]\n",
      " [ 0.24843272 -0.38548957  1.00368857  1.80314349]\n",
      " [ 0.45552077  0.15213503  0.18065519  0.75974051]]\n"
     ]
    }
   ],
   "source": [
    "N = 5; steps = 4                       # 5 simulated paths each with 4 intermediate steps\n",
    "prng = np.random.RandomState()   \n",
    "Z = prng.standard_normal((N, steps))   # generate all standard normal random numbers required for each step in each path\n",
    "print(Z)"
   ]
  },
  {
   "cell_type": "code",
   "execution_count": 112,
   "metadata": {},
   "outputs": [
    {
     "name": "stdout",
     "output_type": "stream",
     "text": [
      "[[100.          99.97691157  96.69955234  94.70472295  93.04609014]\n",
      " [100.         101.61224856 106.266483   109.11575461 109.5830422 ]\n",
      " [100.         109.97238059 101.83498576 101.0823923  108.16824512]\n",
      " [100.          97.63821779  99.75920614 103.62360852  95.43357783]\n",
      " [100.          95.29045732 102.07399861  93.19860111 104.82527704]]\n"
     ]
    }
   ],
   "source": [
    "T = 1; S0 = 100; β = 0.75              # parameters where starting asset price is 100\n",
    "Δt = T/steps                           # size of each time step\n",
    "S = S0*np.ones((N, steps + 1))         # generate matrix of size (N by steps) filled with starting asset price of 100\n",
    "\n",
    "# loop to simulate all paths step by step using the numbers generated above\n",
    "# note each step forward requires the asset price in the current time step\n",
    "for t in range(steps):                 \n",
    "    S[:,t+1] = S[:,t] + r*S[:,t]*Δt + σ*S[:,t]**β*math.sqrt(Δt)*Z[:,t] \n",
    "print(S)"
   ]
  },
  {
   "cell_type": "code",
   "execution_count": 10,
   "metadata": {},
   "outputs": [],
   "source": [
    "# define a function to reuse the code for calculating the combined sample average and standard error\n",
    "\n",
    "def process_result(result, n_engs, N_per_eng):    \n",
    "    px = [x[0] for x in result]   \n",
    "    price = np.average(px)\n",
    "    \n",
    "    φ = sum(var[1] for var in result)*N_per_eng                   # sum of numerators of variance for each engine's sample\n",
    "    for i in range(1, n_engs):                      \n",
    "        φ += N_per_eng*i/(i+1)*(px[i] - np.average(px[0:i]))**2   # loop to add the incremental adjustment factors \n",
    "\n",
    "    stderr = math.sqrt((φ / (n_engs*N_per_eng-1)) / (n_engs*N_per_eng))  # calculate standard error using φ\n",
    "\n",
    "    return price, stderr"
   ]
  },
  {
   "cell_type": "code",
   "execution_count": 12,
   "metadata": {},
   "outputs": [
    {
     "name": "stdout",
     "output_type": "stream",
     "text": [
      "Using 5 steps\n",
      "Euler Scheme: Price = 4.401 standard error = 0.006522\n",
      "Milstein Scheme: Price = 4.457 standard error = 0.006541\n",
      "Using 10 steps\n",
      "Euler Scheme: Price = 4.422 standard error = 0.006526\n",
      "Milstein Scheme: Price = 4.451 standard error = 0.006537\n",
      "Using 20 steps\n",
      "Euler Scheme: Price = 4.425 standard error = 0.006528\n",
      "Milstein Scheme: Price = 4.439 standard error = 0.006533\n"
     ]
    }
   ],
   "source": [
    "# For this exericise, we need to generate all the pseudo-random numbers at once \n",
    "# and then divide them among the engines to obtain meaningful timing and accuracy comparisons\n",
    "# as both the single engine and multiple engine will be running on the same set of random numbers\n",
    "\n",
    "def MC_CEV_Euler_EKO_Call(S0,K,B,T,σ,r,β,it,steps):\n",
    "    import math, numpy as np\n",
    "    Δt = T/steps\n",
    "    S = S0*np.ones(it)                            # array of the initial asset price which will be updated at each step\n",
    "    for t in range(steps):                      \n",
    "        S += r*S*Δt + σ*S**β*math.sqrt(Δt)*z[:,t] # updating the asset price to t+1 using Euler scheme\n",
    "                                                  # z is accessed as a global variable\n",
    "    KO = S<B\n",
    "    V = math.exp(-r*T)*np.maximum(S-K,0)*KO\n",
    "    return (np.average(V), np.var(V))\n",
    "\n",
    "def MC_CEV_Milstein_EKO_Call(S0,K,B,T,σ,r,β,it,steps):\n",
    "    import math, numpy as np\n",
    "    Δt = T/steps\n",
    "    S = S0*np.ones(it)\n",
    "    for t in range(steps):\n",
    "        S += (r*S*Δt + σ*S**β*math.sqrt(Δt)*z[:,t] # updating the asset price to t+1 using Milstein scheme\n",
    "              + 0.5*β*σ**2*S**(2*β-1)*Δt*(np.power(z[:,t],2)-1))\n",
    "    KO = S<B\n",
    "    V = math.exp(-r*T)*np.maximum(S-K,0)*KO\n",
    "    return (np.average(V), np.var(V))\n",
    "\n",
    "N=1000000; N_per_eng = int(N / n_engs)\n",
    "β = 0.75; S0 = 120.; K = 100.; B = 120.; T = 1.5; r = 0.02; σ = 0.3\n",
    "\n",
    "for steps in [5, 10, 20]:\n",
    "    print('Using', steps, 'steps')\n",
    "    \n",
    "    prng = np.random.RandomState(1) \n",
    "    Z = prng.standard_normal((N_per_eng*n_engs,steps))\n",
    "#     Z1 = prng.standard_normal((N_per_eng*n_engs,steps))\n",
    "#     Z2 = prng.standard_normal((N_per_eng*n_engs,steps))\n",
    "#     Z3 = prng.standard_normal((N_per_eng*n_engs,steps))\n",
    "    \n",
    "    # scatter function distributes the varible equally among the engines\n",
    "    # which can be accessed as a global variable defined in the first argument\n",
    "    dview.scatter('z', Z)\n",
    "    \n",
    "    result = dview.apply_sync(MC_CEV_Euler_EKO_Call,S0,K,B,T,σ,r,β,N_per_eng,steps)\n",
    "#     (sum, var) = rc[0].apply_sync(MC_CEV_Euler_EKO_Call,S0,K,B,T,σ,r,β,N,steps,Z1)\n",
    "    price, stderr = process_result(result, n_engs, N_per_eng)\n",
    "    print('Euler Scheme: Price = {:.4}'.format(price), 'standard error = {:.4}'.format(stderr))\n",
    "    \n",
    "    result = dview.apply_sync(MC_CEV_Milstein_EKO_Call,S0,K,B,T,σ,r,β,N_per_eng,steps)\n",
    "    price, stderr = process_result(result, n_engs, N_per_eng)\n",
    "    print('Milstein Scheme: Price = {:.4}'.format(price), 'standard error = {:.4}'.format(stderr))"
   ]
  },
  {
   "cell_type": "code",
   "execution_count": 13,
   "metadata": {},
   "outputs": [
    {
     "name": "stdout",
     "output_type": "stream",
     "text": [
      "Milstein Scheme: Price = 4.442 standard error = 0.00653\n",
      "Wall time: 3.25 s\n"
     ]
    }
   ],
   "source": [
    "%%time\n",
    "\n",
    "import scipy.stats as sct\n",
    "\n",
    "# Example of using antithetic variables to price the EKO call with Milstein scheme\n",
    "# on the CEV model with beta = 0.75\n",
    "\n",
    "N = 1000000; N_per_eng = int(N/n_engs); steps = 20\n",
    "\n",
    "# create antithetic variables that will be scattered evenly across the engines\n",
    "Z1 = sct.norm.ppf(np.random.uniform(0,1,(N//2,steps)))\n",
    "Z2 = -Z1\n",
    "\n",
    "# U1 = np.random.uniform(0,1,((N*n_engs)//2,steps))\n",
    "# Z1 = sct.norm.ppf(U1)\n",
    "# Z2 = sct.norm.ppf(1 - U1)\n",
    "\n",
    "Z = np.append(Z1, Z2, axis=0)\n",
    "dview.scatter('z', Z) \n",
    "\n",
    "result = dview.apply_sync(MC_CEV_Milstein_EKO_Call,S0,K,B,T,σ,r,β,N_per_eng,steps)\n",
    "price, stderr = process_result(result, n_engs, N_per_eng)\n",
    "print('Milstein Scheme: Price = {:.4}'.format(price), 'standard error = {:.4}'.format(stderr))"
   ]
  },
  {
   "cell_type": "code",
   "execution_count": 91,
   "metadata": {},
   "outputs": [
    {
     "name": "stdout",
     "output_type": "stream",
     "text": [
      "Correlation of S1 and S2 =  -0.9931722553117591\n",
      "Correlation of V1 and V2 =  -0.010853763970465835\n",
      "Px: 4.440156468690425\n",
      "Std Err: 0.006528355944803806 \n",
      "\n",
      "Correlation of S1 and S3 =  -1.0\n",
      "Correlation of V1 and V3 =  -0.012411533775342291\n",
      "Px: 4.795812386115853\n",
      "Std Err: 0.006561752895497572\n",
      "Wall time: 2.93 s\n"
     ]
    }
   ],
   "source": [
    "%%time\n",
    "import numpy as np\n",
    "import math\n",
    "\n",
    "# Using perfectly negatively correlated normal random variables as a mirroring set would\n",
    "# create only almost perfectly negatively correlated underlying prices \n",
    "# However, the non-linear payoff function would cause the correlation coefficient to become\n",
    "# less negatively correlated\n",
    "\n",
    "# How about using the final underlying price created using the first set of standard normal\n",
    "# to create a second set of underlying prices that is perfectly negatively correlated with\n",
    "# the first set? Let's take a look\n",
    "\n",
    "N=1000000; β = 0.75; S0 = 120.; K = 100.; B = 120.; T = 1.5; r = 0.02; σ = 0.3; steps = 20\n",
    "\n",
    "Z1 = np.random.standard_normal((N//2,steps))\n",
    "Z2 = -Z1 \n",
    "Δt = T/steps\n",
    "S1 = S0*np.ones(N//2)\n",
    "S2 = S0*np.ones(N//2)\n",
    "\n",
    "# Use the perfectly negatively correlation standard normal R.V. to generate second set \n",
    "# of price paths under the variable name S2\n",
    "\n",
    "for t in range(steps):\n",
    "    S1 += (r*S1*Δt + σ*S1**β*math.sqrt(Δt)*Z1[:,t] + 0.5*β*σ**2*S1**(2*β-1)*Δt*(np.power(Z1[:,t],2)-1))\n",
    "    S2 += (r*S2*Δt + σ*S2**β*math.sqrt(Δt)*Z2[:,t] + 0.5*β*σ**2*S2**(2*β-1)*Δt*(np.power(Z2[:,t],2)-1))\n",
    "\n",
    "print('Correlation of S1 and S2 = ', np.corrcoef(S1,S2)[0,1])\n",
    "\n",
    "# calculate option prices by using the combined set of S1 and S2\n",
    "\n",
    "KO = S1<B\n",
    "V1 = math.exp(-r*T)*np.maximum(S1-K,0)*KO\n",
    "KO = S2<B\n",
    "V2 = math.exp(-r*T)*np.maximum(S2-K,0)*KO\n",
    "\n",
    "V = np.append(V1,V2)\n",
    "px = np.average(V)\n",
    "stderr = np.sqrt(np.var(V)/(len(V)))\n",
    "\n",
    "cov = np.cov(V1,V2, ddof=1)\n",
    "rho = cov[0,1]/(cov[0,0]*cov[1,1])\n",
    "\n",
    "print('Correlation of V1 and V2 = ', rho)\n",
    "print('Px:', px)\n",
    "print('Std Err:', stderr, '\\n')\n",
    "\n",
    "# Create a new set of final underlying price at maturity by reflecting the price\n",
    "# about the initial price S0 and store it in variable S3 \n",
    "# E.g. 130 reflects to 110 as S0 = 120\n",
    "\n",
    "\n",
    "S3 = 2*S0 - S1\n",
    "print('Correlation of S1 and S3 = ', np.corrcoef(S1,S3)[0,1])\n",
    "\n",
    "# calculate option prices by using the combined set of S1 and S3\n",
    "\n",
    "KO = S3<B\n",
    "V3 = math.exp(-r*T)*np.maximum(S3-K,0)*KO\n",
    "\n",
    "V = np.append(V1,V3)\n",
    "px = np.average(V)\n",
    "stderr = (np.var(V)/(len(V)))**0.5\n",
    "\n",
    "cov = np.cov(V1,V3, ddof=1)\n",
    "rho = cov[0,1]/(cov[0,0]*cov[1,1])\n",
    "\n",
    "print('Correlation of V1 and V3 = ', rho)\n",
    "print('Px:', px)\n",
    "print('Std Err:', stderr)\n",
    "\n",
    "# The price does not converge as the underlying prices in the \n",
    "# combined set of S1, S3 no longer follows the CEV distribution\n",
    "# due to the way S3 is constructed"
   ]
  },
  {
   "cell_type": "code",
   "execution_count": 14,
   "metadata": {},
   "outputs": [
    {
     "name": "stdout",
     "output_type": "stream",
     "text": [
      "[[2203.83629089  -19.16951853]\n",
      " [ -19.16951853   20.15723816]]\n",
      "Control Variable: Price = 1.841 standard error = 0.004471\n",
      "Correlation coefficient = -0.091\n"
     ]
    }
   ],
   "source": [
    "# Example of using S(T) as the control variable without using parallel processing\n",
    "\n",
    "N = 1000000\n",
    "convar = np.random.RandomState()\n",
    "z = convar.standard_normal(N)\n",
    "S = S0*np.exp((r - 0.5*σ**2)*T + z*(σ*math.sqrt(T)))\n",
    "\n",
    "# calculate the average of S(T) which will be used as the control variable\n",
    "avgSpot = np.average(S)\n",
    "\n",
    "KO = S<B\n",
    "V = math.exp(-r*T)*np.maximum(S-K,0)*KO\n",
    "\n",
    "# generates the covariance matrix between option value and the control variable\n",
    "# the adjustment factor for the error = -cov(S,V)/var(S)\n",
    "# cov(S,V) = (var(S),cov(S,V); cov(S,V),var(V))\n",
    "cov = np.cov(S, V, ddof=1) \n",
    "adj = -cov[0,1]/cov[0,0]    \n",
    "print(cov)\n",
    "\n",
    "price = np.sum(V)/N + adj*(avgSpot - S0*math.exp(r*T))\n",
    "stderr = math.sqrt((cov[1,1] - cov[0,1]**2/cov[0,0])/N);\n",
    "print('Control Variable: Price = {:.4}'.format(price), 'standard error = {:.4}'.format(stderr))\n",
    "print('Correlation coefficient = {:.3}'.format(cov[0,1]/(math.sqrt(cov[0,0]*cov[1,1]))))"
   ]
  },
  {
   "cell_type": "code",
   "execution_count": 13,
   "metadata": {},
   "outputs": [
    {
     "name": "stdout",
     "output_type": "stream",
     "text": [
      "Importance Sampling: Price = 1.846 standard error = 0.001082\n"
     ]
    }
   ],
   "source": [
    "from scipy.stats import norm\n",
    "\n",
    "N = 1000000\n",
    "\n",
    "# find the 2 points in the standard normal distribution \n",
    "# that correspond to S(T) = K and B\n",
    "M = (math.log(B/S0)-(r-0.5*σ**2)*T)/(σ*math.sqrt(T)) # if Z < M then S(T) < B\n",
    "L = (math.log(K/S0)-(r-0.5*σ**2)*T)/(σ*math.sqrt(T)) # if Z > L then S(T) > K\n",
    "\n",
    "# generate uniform random numbers in (cdf(L),cdf(M)) for use with \n",
    "# the inverse CDF to generate required random numbers\n",
    "impsam = np.random.RandomState() \n",
    "U = impsam.uniform(norm.cdf(L),norm.cdf(M),N)\n",
    "\n",
    "# U provides probabilities in the interval that guarantees L < Z < M\n",
    "# when put through the inverse CDF for standard normal distribution\n",
    "# x are random variables that guarantee K < S(T) < B when used in\n",
    "# the exact solution for S(T) using the GBM formula\n",
    "x = norm.ppf(U)\n",
    "S = S0*np.exp((r - 0.5*σ**2)*T + σ*math.sqrt(T)*x) \n",
    "\n",
    "# calculate the probabibility of K < S(T) < B \n",
    "ProbLtoM = norm.cdf(M) - norm.cdf(L)\n",
    "\n",
    "# multiply the option payout by p(K<S(T)<B) to weigh outcome appropriately\n",
    "# since we have generated a distribution that only produces outcomes in \n",
    "# the range of K<S(T)<B\n",
    "V = math.exp(-r*T)*np.maximum(0, S - K)* ProbLtoM\n",
    "\n",
    "price = np.sum(V) / N \n",
    "stderr = np.std(V,ddof=1)/math.sqrt(N)\n",
    "\n",
    "print('Importance Sampling: Price = {:.4}'.format(price), 'standard error = {:.4}'.format(stderr))"
   ]
  },
  {
   "cell_type": "code",
   "execution_count": 94,
   "metadata": {},
   "outputs": [
    {
     "name": "stdout",
     "output_type": "stream",
     "text": [
      "10 bins: Price = 1.846 standard error = 0.002888\n",
      "100 bins: Price = 1.847 standard error = 0.000498\n",
      "1000 bins: Price = 1.847 standard error = 0.0002922\n",
      "10000 bins: Price = 1.847 standard error = 9.735e-05\n",
      "100000 bins: Price = 1.847 standard error = 2.965e-05\n",
      "500000 bins: Price = 1.847 standard error = 2.544e-08\n",
      "1000000 bins: Price = 1.847 standard error = nan\n"
     ]
    },
    {
     "name": "stderr",
     "output_type": "stream",
     "text": [
      "C:\\Users\\luchu\\Anaconda3\\lib\\site-packages\\numpy\\core\\fromnumeric.py:3584: RuntimeWarning: Degrees of freedom <= 0 for slice\n",
      "  **kwargs)\n",
      "C:\\Users\\luchu\\Anaconda3\\lib\\site-packages\\numpy\\core\\_methods.py:207: RuntimeWarning: invalid value encountered in true_divide\n",
      "  ret, rcount, out=ret, casting='unsafe', subok=False)\n"
     ]
    }
   ],
   "source": [
    "import scipy.stats as sct\n",
    "\n",
    "N = 1000000\n",
    "\n",
    "def StratSampling(S0,K,B,T,σ,r,N,Nb):\n",
    "    prng = np.random.RandomState(0)\n",
    "    bins = np.linspace(0, 1, Nb+1)\n",
    "    U = []\n",
    "    for b in range(Nb):\n",
    "        # create bins of uniform RVs in respective interval of each bin\n",
    "        U.append(prng.uniform(bins[b], bins[b+1], int(N/Nb))) \n",
    "    \n",
    "    # use the standard normal inverse CDF on the uniform RVs \n",
    "    # to generate corresponding standard normal RVs in each bin\n",
    "    Z = sct.norm.ppf(U)\n",
    "        \n",
    "    # standard MC procedure\n",
    "    S = S0*np.exp((r - 0.5*σ**2)*T + Z*(σ*math.sqrt(T)))\n",
    "    KO = S<B\n",
    "    V = math.exp(-r*T)*np.maximum(S-K,0)*KO\n",
    "    \n",
    "    price = np.sum(V)/N\n",
    "    \n",
    "    # variance calculated bin by bin\n",
    "    var = np.var(V,ddof=1,axis=1)\n",
    "    \n",
    "    # variance combined and standard error of estimate is calculated\n",
    "    stderr = math.sqrt(np.sum(var)/(Nb*N))\n",
    "    \n",
    "    return (price, stderr)\n",
    "\n",
    "for Nb in [10, 100, 1000, 10000, 100000, 500000, 1000000]:\n",
    "    (price, stderr) = StratSampling(S0,K,B,T,σ,r,N,Nb)\n",
    "    print(Nb, 'bins: Price = {:.4}'.format(price), 'standard error = {:.4}'.format(stderr))"
   ]
  }
 ],
 "metadata": {
  "kernelspec": {
   "display_name": "Python 3",
   "language": "python",
   "name": "python3"
  },
  "language_info": {
   "codemirror_mode": {
    "name": "ipython",
    "version": 3
   },
   "file_extension": ".py",
   "mimetype": "text/x-python",
   "name": "python",
   "nbconvert_exporter": "python",
   "pygments_lexer": "ipython3",
   "version": "3.7.6"
  }
 },
 "nbformat": 4,
 "nbformat_minor": 2
}
