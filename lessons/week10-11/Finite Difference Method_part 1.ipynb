{
 "cells": [
  {
   "cell_type": "code",
   "execution_count": 1,
   "metadata": {},
   "outputs": [],
   "source": [
    "%reset -f\n",
    "\n",
    "import numpy as np\n",
    "from scipy.stats import norm\n",
    "import matplotlib.pyplot as plt\n",
    "\n",
    "def BS_Call(S, σ, r, K, T):\n",
    "    d1 = (np.log(S/K)+(r+0.5*np.power(σ,2))*T)/(σ*np.power(T,0.5)) \n",
    "    d2 = d1 - σ*np.power(T,0.5)\n",
    "    return norm.cdf(d1)*S - norm.cdf(d2)*K*np.exp(-r*T)"
   ]
  },
  {
   "cell_type": "code",
   "execution_count": 2,
   "metadata": {},
   "outputs": [
    {
     "name": "stdout",
     "output_type": "stream",
     "text": [
      "Error of ATM strike option =  -0.001210048503004657\n",
      "Wall time: 3.2 s\n"
     ]
    },
    {
     "data": {
      "image/png": "[encoded data removed]",
      "text/plain": [
       "<Figure size 432x288 with 1 Axes>"
      ]
     },
     "metadata": {
      "needs_background": "light"
     },
     "output_type": "display_data"
    }
   ],
   "source": [
    "%%time\n",
    "%matplotlib inline\n",
    "\n",
    "# Nx = asset price steps\n",
    "def Explicit_FDM_Loops(σ, r, K, T, Nx, Nt):  \n",
    "    xs = np.linspace(0, 2*K, Nx+1) \n",
    "    Δx = xs[1]-xs[0]\n",
    "    Δt = T / Nt \n",
    "    # Initial Condition\n",
    "    V = np.maximum(xs-K, 0) \n",
    "\n",
    "    for k in range(Nt):\n",
    "        # Temp store for current V values\n",
    "        W = list(V)\n",
    "        # Loop for all points except boundaries\n",
    "        for i in range(1, Nx):\n",
    "            # Central difference for both Delta and Gamma\n",
    "            fx = (W[i + 1] - W[i - 1]) / (2.*Δx) \n",
    "            fxx = (W[i + 1] - 2. * W[i] + W[i - 1]) / Δx**2            \n",
    "            # Black-Scholes equation\n",
    "            ft = 0.5 * σ**2 * xs[i]**2 * fxx + r*xs[i]*fx - r*W[i]      \n",
    "            # Compute V in next timestep\n",
    "            V[i] = W[i] + Δt * ft\n",
    "            \n",
    "        # Boundary condition at small asset price\n",
    "        V[0] = W[0] * (1. - r * Δt) \n",
    "        # Boundary condition at large asset price\n",
    "        V[-1] = 2. * V[-2] - V[-3]\n",
    "    \n",
    "    return V, xs\n",
    "\n",
    "# Input parameters\n",
    "σ = 0.3; r = 0.03; K = 100; T = 1; Nx = 200; Nt = 4000\n",
    "\n",
    "V, xs = Explicit_FDM_Loops(σ, r, K, T, Nx, Nt)\n",
    "plt.plot(xs, V, xs[1:], BS_Call(xs[1:], σ, r, K, T)) # comparing FDM price curve with BS price curve\n",
    "plt.title(\"Value of a 1-year vanilla European call struck at $100\")\n",
    "print('Error of ATM strike option = ', (V[int(Nx/2)] - BS_Call(K, σ, r, K, T)))"
   ]
  },
  {
   "cell_type": "code",
   "execution_count": 3,
   "metadata": {},
   "outputs": [
    {
     "name": "stdout",
     "output_type": "stream",
     "text": [
      "Error of ATM strike option =  2.8947977918145465e+190\n",
      "Wall time: 63.9 ms\n"
     ]
    },
    {
     "data": {
      "image/png": "[encoded data removed]",
      "text/plain": [
       "<Figure size 432x288 with 1 Axes>"
      ]
     },
     "metadata": {
      "needs_background": "light"
     },
     "output_type": "display_data"
    }
   ],
   "source": [
    "%%time\n",
    "%matplotlib inline\n",
    "\n",
    "from scipy.sparse import diags\n",
    "\n",
    "def Explicit_FDM_Matrix(σ, r, K, T, Nx, Nt):                                      \n",
    "    xs = np.linspace(0, 2*K, Nx+1)  # creates array of equally spaced points along domain of x in [0,2*K]\n",
    "    Δx = xs[1]-xs[0]                # step size of x \n",
    "    Δt = T / Nt                     # step size of tau\n",
    "    # initial condition of option\n",
    "    V = np.maximum(xs-K, 0)         \n",
    "\n",
    "    # Set up matrix diagonals for d0 - main diagonal, d1 - super diagonal, dm1 - sub diagonal\n",
    "    d0 = 1 - σ**2 * np.power(xs,2)*Δt/Δx**2 - r*Δt\n",
    "    d1 = 0.5*(r*xs[0:-1]*Δt/Δx + σ**2 * np.power(xs[0:-1],2)*Δt/Δx**2) # i-th element corresponds to x(i)\n",
    "    dm1 = 0.5*(σ**2 * np.power(xs[1:],2)*Δt/Δx**2 - r*xs[1:]*Δt/Δx)    # i-th element corresponeds to x(i+1)\n",
    "    \n",
    "    # Boundary condition for small asset price\n",
    "    d0[0] = (1 - r * Δt) \n",
    "    d1[0] = 0\n",
    "    \n",
    "    # Construct the matrix\n",
    "    A = diags([dm1,d0,d1], [-1, 0, 1], shape=(Nx+1,Nx+1), dtype=float)\n",
    "    \n",
    "    for t in range(Nt):\n",
    "        V = A.dot(V)\n",
    "        # Boundary condition for large asset price\n",
    "        V[-1] = 2.*V[-2] - V[-3] \n",
    "    \n",
    "    return V, xs\n",
    "\n",
    "# Input parameters\n",
    "σ = 0.3; r = 0.03; K = 100; T = 1; Nx = 200; Nt = 3000\n",
    "\n",
    "V, xs = Explicit_FDM_Matrix(σ, r, K, T, Nx, Nt)\n",
    "plt.plot(xs, V, xs[1:], BS_Call(xs[1:], σ, r, K, T)) # comparing FDM price curve with BS price curve\n",
    "plt.title(\"Value of a 1-year vanilla European call struck at $100\")\n",
    "print('Error of ATM strike option = ', (V[int(Nx/2)] - BS_Call(K, σ, r, K, T)))"
   ]
  },
  {
   "cell_type": "code",
   "execution_count": 9,
   "metadata": {},
   "outputs": [
    {
     "name": "stdout",
     "output_type": "stream",
     "text": [
      "Error of ATM strike option =  -0.0012100485049391096\n",
      "Wall time: 47.4 ms\n"
     ]
    },
    {
     "data": {
      "image/png": "[encoded data removed]",
      "text/plain": [
       "<Figure size 432x288 with 1 Axes>"
      ]
     },
     "metadata": {
      "needs_background": "light"
     },
     "output_type": "display_data"
    }
   ],
   "source": [
    "%%time\n",
    "%matplotlib inline\n",
    "\n",
    "def Explicit_FDM_Matrix(σ, r, K, T, Nx, Nt=None):  \n",
    "    xs = np.linspace(0, 2*K, Nx+1) \n",
    "    Δx = xs[1]-xs[0]\n",
    "    if Nt is None:\n",
    "        Δt = 0.9 / σ**2 / Nx**2   # stability condition     \n",
    "        Nt = int(T/Δt)            # ensure that Nt is an integer for the time loop\n",
    "    else:\n",
    "        Δt = T/Nt\n",
    "    # initial condition of option\n",
    "    V = np.maximum(xs-K, 0) \n",
    "\n",
    "    # set up matrix diagonals\n",
    "    d0 = 1 - σ**2 * np.power(xs,2)*Δt/Δx**2 - r*Δt\n",
    "    d1 = 0.5*(r*xs[0:-1]*Δt/Δx + σ**2 * np.power(xs[0:-1],2)*Δt/Δx**2) # i-th element corresponds to x(i)\n",
    "    dm1 = 0.5*(σ**2 * np.power(xs[1:],2)*Δt/Δx**2 - r*xs[1:]*Δt/Δx)    # i-th element corresponeds to x(i+1)\n",
    "    \n",
    "    # boundary condition for small asset price\n",
    "    d0[0] = (1 - r * Δt) \n",
    "    d1[0] = 0\n",
    "    \n",
    "    # construct the matrix\n",
    "    A = diags([dm1,d0,d1], [-1, 0, 1], shape=(Nx+1,Nx+1), dtype=float)\n",
    "    \n",
    "    for t in range(Nt):\n",
    "        V = A.dot(V)\n",
    "        V[-1] = 2.*V[-2] - V[-3] # boundary condition for large asset price\n",
    "    \n",
    "    return V, xs\n",
    "\n",
    "# input parameters\n",
    "σ = 0.3; r = 0.03; K = 100; T = 1; Nx = 200\n",
    "\n",
    "V, xs = Explicit_FDM_Matrix(σ, r, K, T, Nx)\n",
    "plt.plot(xs, V)\n",
    "plt.title(\"Value of a 1-year vanilla European call struck at $100\")\n",
    "print('Error of ATM strike option = ', (V[int(Nx/2)] - BS_Call(K, σ, r, K, T)))"
   ]
  },
  {
   "cell_type": "code",
   "execution_count": 4,
   "metadata": {},
   "outputs": [
    {
     "name": "stdout",
     "output_type": "stream",
     "text": [
      "Error of ATM strike option =  -0.010177804241074284\n",
      "Wall time: 120 ms\n"
     ]
    },
    {
     "data": {
      "image/png": "[encoded data removed]",
      "text/plain": [
       "<Figure size 432x288 with 1 Axes>"
      ]
     },
     "metadata": {
      "needs_background": "light"
     },
     "output_type": "display_data"
    }
   ],
   "source": [
    "%%time\n",
    "%matplotlib inline\n",
    "\n",
    "from scipy.sparse.linalg import spsolve\n",
    "\n",
    "def Implicit_FDM(σ, r, K, T, Nx, Nt, m=2):      \n",
    "    xs = np.linspace(0, m*K, Nx+1) \n",
    "    Δx = xs[1]-xs[0]\n",
    "    Δt = T / Nt \n",
    "    # initial Condition\n",
    "    V = np.maximum(xs-K, 0) \n",
    "\n",
    "    # Set up matrix diagonals\n",
    "    d0 = 1 + σ**2 * np.power(xs,2)*Δt/Δx**2 + r*Δt\n",
    "    d1 = -0.5*(r*xs[0:-1]*Δt/Δx + σ**2 * np.power(xs[0:-1],2)*Δt/Δx**2)\n",
    "    dm1 = 0.5*(r*xs[1:]*Δt/Δx - σ**2 * np.power(xs[1:],2)*Δt/Δx**2)\n",
    "    dm2 = np.zeros(Nx-1)\n",
    "    \n",
    "    # Boundary condition for small asset price\n",
    "    d0[0] = 1/(1 - r * Δt) \n",
    "    d1[0] = 0\n",
    "    # Boundary condition for large asset price\n",
    "    d0[-1] = 1\n",
    "    dm1[-1] = -2\n",
    "    dm2[-1] = 1\n",
    "    \n",
    "    # Construct the matrix\n",
    "    A = diags([dm2,dm1,d0,d1], [-2,-1, 0, 1], shape=(Nx+1,Nx+1), dtype=float)\n",
    "    A = A.tocsr() # solver is more efficient with csc or csr format\n",
    "    \n",
    "    for t in range(Nt):\n",
    "        V[-1] = 0 # Boundary condition for large asset price\n",
    "        V = spsolve(A,V)\n",
    "        \n",
    "    return V, xs\n",
    "\n",
    "# Input parameters\n",
    "σ = 0.7; r = 0.03; K = 100; T = 1; Nx = 500; Nt = 400; m = 5\n",
    "\n",
    "V, xs = Implicit_FDM(σ, r, K, T, Nx, Nt, m)\n",
    "plt.plot(xs, V, xs[1:], BS_Call(xs[1:], σ, r, K, T)) # comparing FDM price curve with BS price curve\n",
    "plt.title(\"Value of a 1-year vanilla European call struck at $100\")\n",
    "print('Error of ATM strike option = ', (V[int(Nx/m)] - BS_Call(K, σ, r, K, T)))"
   ]
  },
  {
   "cell_type": "code",
   "execution_count": 5,
   "metadata": {},
   "outputs": [
    {
     "name": "stdout",
     "output_type": "stream",
     "text": [
      "411.0084187309244\n"
     ]
    }
   ],
   "source": [
    "# Find a suitable bound on the high boundary of x by using the inverse CDF of normal distribution\n",
    "\n",
    "import math\n",
    "from scipy.stats import norm\n",
    "\n",
    "σ = 0.7; r = 0.03; S = 100.; T = 1.\n",
    "\n",
    "pct = 0.99\n",
    "\n",
    "S_max = S*math.exp((r - 0.5*σ**2)*T + σ*norm.ppf(pct))\n",
    "\n",
    "print(S_max)"
   ]
  },
  {
   "cell_type": "code",
   "execution_count": 6,
   "metadata": {},
   "outputs": [
    {
     "name": "stdout",
     "output_type": "stream",
     "text": [
      "Error of ATM strike option =  -0.0016020739713393795\n",
      "Wall time: 94.7 ms\n"
     ]
    },
    {
     "data": {
      "image/png": "[encoded data removed]",
      "text/plain": [
       "<Figure size 432x288 with 1 Axes>"
      ]
     },
     "metadata": {
      "needs_background": "light"
     },
     "output_type": "display_data"
    }
   ],
   "source": [
    "%%time\n",
    "%matplotlib inline\n",
    "\n",
    "def Crank_Nicolson_FDM(σ, r, K, T, Nx, Nt):  \n",
    "    xs = np.linspace(0, 2*K, Nx+1) \n",
    "    Δx = xs[1]-xs[0]\n",
    "    Δt = T / Nt \n",
    "    V = np.maximum(xs-K, 0) # initial Condition\n",
    "\n",
    "    # Set up RHS matrix diagonals\n",
    "    d0 = 1 - 0.5*(σ**2 * np.power(xs,2)*Δt/Δx**2 + r*Δt)\n",
    "    d1 = 0.25*(r*xs[0:-1]*Δt/Δx + σ**2 * np.power(xs[0:-1],2)*Δt/Δx**2)\n",
    "    dm1 = 0.25*(σ**2 * np.power(xs[1:],2)*Δt/Δx**2 - r*xs[1:]*Δt/Δx)\n",
    "    \n",
    "    # Boundary condition for small asset price\n",
    "    d0[0] = 1\n",
    "    d1[0] = 0\n",
    "    \n",
    "    # Boundary condition for large asset price\n",
    "    d0[-1] = 0\n",
    "    dm1[-1] = 0\n",
    "    \n",
    "    # Construct RHS matrix\n",
    "    B = diags([dm1,d0,d1], [-1, 0, 1], shape=(Nx+1,Nx+1), dtype=float)\n",
    "    \n",
    "    # Set up LHS matrix diagonals\n",
    "    d0 = 2-d0\n",
    "    d1 = -d1\n",
    "    dm1 = -dm1\n",
    "    dm2 = np.zeros(Nx-1) \n",
    "    \n",
    "    # Boundary condition for small asset price\n",
    "    d0[0] = 1/(1 - r * Δt) \n",
    "    d1[0] = 0\n",
    "    \n",
    "    # Boundary condition for large asset price\n",
    "    d0[-1] = 1\n",
    "    dm1[-1] = -2\n",
    "    dm2[-1] = 1\n",
    "    \n",
    "    # Construct LHS matrix\n",
    "    A = diags([dm2,dm1,d0,d1], [-2,-1, 0, 1], shape=(Nx+1,Nx+1), dtype=float)\n",
    "    A = A.tocsr()    \n",
    "    \n",
    "    for t in range(Nt):\n",
    "        V = B.dot(V)\n",
    "        V = spsolve(A,V)\n",
    "        \n",
    "    return V, xs\n",
    "\n",
    "# Input parameters\n",
    "σ = 0.3; r = 0.03; K = 100; T = 1; Nx = 200; Nt = 400\n",
    "\n",
    "V, xs = Crank_Nicolson_FDM(σ, r, K, T, Nx, Nt)\n",
    "plt.plot(xs, V, xs[1:], BS_Call(xs[1:], σ, r, K, T)) # comparing FDM price curve with BS price curve\n",
    "plt.title(\"Value of a 1-year vanilla European call struck at $100\")\n",
    "print('Error of ATM strike option = ', (V[int(Nx/2)] - BS_Call(K, σ, r, K, T)))"
   ]
  },
  {
   "cell_type": "code",
   "execution_count": 7,
   "metadata": {},
   "outputs": [],
   "source": [
    "def BS_Put(S, σ, r, K, T):\n",
    "    d1 = (np.log(S/K)+(r+0.5*np.power(σ,2))*T)/(σ*np.power(T,0.5))\n",
    "    d2 = d1 - σ*np.power(T,0.5)\n",
    "    return norm.cdf(-d2)*K*np.exp(-r*T) - norm.cdf(-d1)*S "
   ]
  },
  {
   "cell_type": "code",
   "execution_count": 8,
   "metadata": {},
   "outputs": [
    {
     "name": "stdout",
     "output_type": "stream",
     "text": [
      "Error of option price =  -0.0007811281208027765\n",
      "Wall time: 107 ms\n"
     ]
    },
    {
     "data": {
      "image/png": "[encoded data removed]",
      "text/plain": [
       "<Figure size 432x288 with 1 Axes>"
      ]
     },
     "metadata": {
      "needs_background": "light"
     },
     "output_type": "display_data"
    }
   ],
   "source": [
    "%%time\n",
    "%matplotlib inline\n",
    "\n",
    "def Crank_Nicolson_FDM(σ, r, K, T, Nx, Nt, m=2):  \n",
    "    xs = np.linspace(0, m*K, Nx+1) \n",
    "    Δx = xs[1]-xs[0]\n",
    "    Δt = T / Nt \n",
    "    V = np.maximum(K-xs, 0) # initial Condition\n",
    "\n",
    "    # Set up RHS matrix diagonals\n",
    "    d0 = 1 - 0.5*(σ**2 * np.power(xs,2)*Δt/Δx**2 + r*Δt)\n",
    "    d1 = 0.25*(r*xs[0:-1]*Δt/Δx + σ**2 * np.power(xs[0:-1],2)*Δt/Δx**2)\n",
    "    dm1 = 0.25*(σ**2 * np.power(xs[1:],2)*Δt/Δx**2 - r*xs[1:]*Δt/Δx)\n",
    "    \n",
    "    # Boundary condition for small asset price\n",
    "    d0[0] = 1\n",
    "    d1[0] = 0\n",
    "    \n",
    "    # Boundary condition for large asset price\n",
    "    d0[-1] = 0\n",
    "    dm1[-1] = 0\n",
    "    \n",
    "    # Construct RHS matrix\n",
    "    B = diags([dm1,d0,d1], [-1, 0, 1], shape=(Nx+1,Nx+1), dtype=float)\n",
    "    \n",
    "    # Set up LHS matrix diagonals\n",
    "    d0 = 2-d0\n",
    "    d1 = -d1\n",
    "    dm1 = -dm1\n",
    "    dm2 = np.zeros(Nx-1) \n",
    "    \n",
    "    # Boundary condition for small asset price\n",
    "    d0[0] = 1/(1 - r * Δt) \n",
    "    d1[0] = 0\n",
    "    \n",
    "    # Boundary condition for large asset price\n",
    "    d0[-1] = 1\n",
    "    dm1[-1] = -2\n",
    "    dm2[-1] = 1\n",
    "    \n",
    "    # Construct LHS matrix\n",
    "    A = diags([dm2,dm1,d0,d1], [-2,-1, 0, 1], shape=(Nx+1,Nx+1), dtype=float)\n",
    "    A = A.tocsr()    \n",
    "    \n",
    "    for t in range(Nt):\n",
    "        V = B.dot(V)\n",
    "        V = spsolve(A,V)\n",
    "        \n",
    "    return V, xs\n",
    "\n",
    "# Input parameters\n",
    "σ = 0.4; r = 0.03; K = 90; T = 2; Nx = 360; Nt = 400; m = 4;\n",
    "\n",
    "V, xs = Crank_Nicolson_FDM(σ, r, K, T, Nx, Nt, m)\n",
    "plt.plot(xs, V, xs[1:], BS_Put(xs[1:], σ, r, K, T)) # comparing FDM price curve with BS price curve\n",
    "\n",
    "x0 = 100\n",
    "\n",
    "plt.title(\"Value of a 1-year vanilla European put struck at $90\")\n",
    "print('Error of option price = ', (V[int(x0*Nx/(m*K))] - BS_Put(x0, σ, r, K, T)))"
   ]
  },
  {
   "cell_type": "code",
   "execution_count": null,
   "metadata": {},
   "outputs": [],
   "source": []
  }
 ],
 "metadata": {
  "kernelspec": {
   "display_name": "Python 3",
   "language": "python",
   "name": "python3"
  },
  "language_info": {
   "codemirror_mode": {
    "name": "ipython",
    "version": 3
   },
   "file_extension": ".py",
   "mimetype": "text/x-python",
   "name": "python",
   "nbconvert_exporter": "python",
   "pygments_lexer": "ipython3",
   "version": "3.7.6"
  }
 },
 "nbformat": 4,
 "nbformat_minor": 2
}
