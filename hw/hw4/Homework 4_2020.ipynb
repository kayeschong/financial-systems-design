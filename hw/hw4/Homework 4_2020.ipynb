{
 "cells": [
  {
   "cell_type": "code",
   "execution_count": 6,
   "metadata": {},
   "outputs": [
    {
     "name": "stdout",
     "output_type": "stream",
     "text": [
      "error1 = -0.0021167521737066597\n",
      "error2 = -2.139531256606375e-07\n",
      "error3 = -2.14626094674486e-11\n",
      "Error decrease factors: 9894 9969\n"
     ]
    }
   ],
   "source": [
    "import math\n",
    "\n",
    "# This only requires a modification of the central diff function and the actual derivative value\n",
    "# from the in class exercise\n",
    "\n",
    "def f(x):\n",
    "    return math.exp(x)*math.sin(math.pi*x)\n",
    "\n",
    "def central_diff(f, x, h):\n",
    "    return (f(x + -2.*h) - 8.*f(x - h) + 8.*f(x + h) - f(x + 2.*h)) / (12.* h)\n",
    "\n",
    "x = 0.5\n",
    "actual = math.exp(x)*math.sin(math.pi*x) + math.exp(x)*math.cos(math.pi*x)*math.pi\n",
    "error1 = central_diff(f, x, 0.1) - actual\n",
    "error2 = central_diff(f, x, 0.01) - actual\n",
    "error3 = central_diff(f, x, 0.001) - actual\n",
    "print(\"error1 =\", error1)\n",
    "print(\"error2 =\", error2)\n",
    "print(\"error3 =\", error3)\n",
    "decrease_factor1 = round(error1 / error2)\n",
    "decrease_factor2 = round(error2 / error3)\n",
    "print(\"Error decrease factors:\", decrease_factor1, decrease_factor2)\n",
    "# The error decreases to the order of h^4"
   ]
  },
  {
   "cell_type": "code",
   "execution_count": null,
   "metadata": {},
   "outputs": [],
   "source": []
  }
 ],
 "metadata": {
  "kernelspec": {
   "display_name": "Python 3",
   "language": "python",
   "name": "python3"
  },
  "language_info": {
   "codemirror_mode": {
    "name": "ipython",
    "version": 3
   },
   "file_extension": ".py",
   "mimetype": "text/x-python",
   "name": "python",
   "nbconvert_exporter": "python",
   "pygments_lexer": "ipython3",
   "version": "3.7.6"
  }
 },
 "nbformat": 4,
 "nbformat_minor": 2
}
