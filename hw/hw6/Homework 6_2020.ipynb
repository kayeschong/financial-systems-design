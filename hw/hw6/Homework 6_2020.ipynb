{
 "cells": [
  {
   "cell_type": "code",
   "execution_count": 5,
   "metadata": {},
   "outputs": [],
   "source": [
    "# Input parameters\n",
    "X0 = 110.; σ = 0.25; r = 0.02; K = 100; B = 115; T = 0.5; β = 0.75; m = 2"
   ]
  },
  {
   "cell_type": "code",
   "execution_count": 2,
   "metadata": {},
   "outputs": [
    {
     "name": "stdout",
     "output_type": "stream",
     "text": [
      "Option price as a percentage of spot at x0 = 110 is 4.35%\n",
      "Wall time: 17.8 s\n"
     ]
    }
   ],
   "source": [
    "%%time\n",
    "\n",
    "import numpy as np\n",
    "import matplotlib.pyplot as plt\n",
    "from scipy.sparse import diags\n",
    "\n",
    "def Explicit_FDM_CEV(σ, r, K, B, T, Nx, β, m=2):  \n",
    "    xs = np.linspace(0, m*K, Nx+1) \n",
    "    Δx = xs[1]-xs[0]\n",
    "    # Stability condition on size of time step\n",
    "    Δt = 0.9 / σ**2 / Nx**2        \n",
    "    # Convert steps to integer\n",
    "    Nt = int(T/Δt)\n",
    "    # Recalibrate Δt based on number of steps\n",
    "    Δt = T / Nt \n",
    "    # Initial Condition requires an addition step to set prices below x=120 to zero\n",
    "    V = np.maximum(xs-K, 0) \n",
    "    V[0:int(B/Δx)] = 0   # int truncates the decimal part so this index corresponds to x<B i.e. anything below barrier\n",
    "\n",
    "    # Set up matrix diagonals\n",
    "    d0 = 1 - σ**2 * np.power(xs,2*β)*Δt/Δx**2 - r*Δt\n",
    "    d1 = 0.5*(r*xs[0:-1]*Δt/Δx + σ**2 * np.power(xs[0:-1],2*β)*Δt/Δx**2)\n",
    "    dm1 = 0.5*(σ**2 * np.power(xs[1:],2*β)*Δt/Δx**2 - r*xs[1:]*Δt/Δx)\n",
    "  \n",
    "    # Boundary condition for small asset price\n",
    "    d0[0] = (1 - r * Δt) \n",
    "    d1[0] = 0\n",
    "    \n",
    "    # Construct the matrix\n",
    "    A = diags([dm1,d0,d1], [-1, 0, 1], shape=(Nx+1,Nx+1), dtype=float)\n",
    "    \n",
    "    for t in range(Nt):\n",
    "        V = A.dot(V) \n",
    "        V[-1] = 2.*V[-2] - V[-3] # Boundary condition for large asset price\n",
    "    \n",
    "    return V, xs\n",
    "\n",
    "Nx = 5000; # step size for asset price\n",
    "V1, xs1 = Explicit_FDM_CEV(σ, r, K, B, T, Nx, β, m)\n",
    "print('Option price as a percentage of spot at x0 = {0:.0f} is {1:.2%}'.format(X0, V1[int(X0*Nx/(m*K))] / X0))"
   ]
  },
  {
   "cell_type": "code",
   "execution_count": 3,
   "metadata": {},
   "outputs": [
    {
     "name": "stdout",
     "output_type": "stream",
     "text": [
      "Option price as a percentage of spot at x0 = 110 is 4.35%\n",
      "Wall time: 7.29 s\n"
     ]
    }
   ],
   "source": [
    "%%time\n",
    "\n",
    "import numpy as np\n",
    "import matplotlib.pyplot as plt\n",
    "from scipy.sparse import diags\n",
    "\n",
    "def Option(σ, r, K, B, T, Nx, β, m=2):  \n",
    "    xs = np.linspace(0, m*K, Nx+1) \n",
    "    Δx = xs[1]-xs[0]\n",
    "    # Stability condition on size of time step\n",
    "    Δt = 0.9 / σ**2 / Nx**2        \n",
    "    # Convert steps to integer\n",
    "    Nt = int(T/Δt)\n",
    "    # Initial Condition requires an addition step to set prices above x=120 to zero\n",
    "    V = np.maximum(xs-K, 0) \n",
    "    V[0:int(B/Δx)] = 0   \n",
    "\n",
    "    # Set up matrix diagonals\n",
    "    d0 = 1 - σ**2 * np.power(xs,2*β)*Δt/Δx**2 - r*Δt\n",
    "    d1 = 0.5*(r*xs[0:-1]*Δt/Δx + σ**2 * np.power(xs[0:-1],2*β)*Δt/Δx**2)\n",
    "    dm1 = 0.5*(σ**2 * np.power(xs[1:],2*β)*Δt/Δx**2 - r*xs[1:]*Δt/Δx)\n",
    "    \n",
    "    # Boundary condition for small asset price\n",
    "    d0[0] = (1 - r * Δt) \n",
    "    d1[0] = 0\n",
    "    \n",
    "    # Construct the matrix\n",
    "    A = diags([dm1,d0,d1], [-1, 0, 1], shape=(Nx+1,Nx+1), dtype=float)\n",
    "    \n",
    "    for t in range(Nt):\n",
    "        V = A.dot(V)\n",
    "        V[-1] = 2.*V[-2] - V[-3] # Boundary condition for large asset price\n",
    "    \n",
    "    return V, Δx, Δt\n",
    "\n",
    "def Richardson(σ, r, K, B, T, Nx, β, m=2):\n",
    "    # 1st solution vector with Nx asset steps\n",
    "    V1, Δx1, Δt1 = Option(σ, r, K, B, T, Nx, β, m)\n",
    "    # 2nd solution vector with double the asset steps\n",
    "    V2, Δx2, Δt2 = Option(σ, r, K, B, T, int(Nx*2), β, m) \n",
    "    xs = np.linspace(0, m*K, Nx+1)\n",
    "    # return solution vector adjusted with Richardson's Extrapolation\n",
    "    return (4.*V2[::2] - V1) / 3., xs\n",
    "\n",
    "Nx = 1600\n",
    "V2, xs2 = Richardson(σ, r, K, B, T, Nx, β, m)\n",
    "print('Option price as a percentage of spot at x0 = {0:.0f} is {1:.2%}'.format(X0, V2[int(X0*Nx/(m*K))] / X0))"
   ]
  },
  {
   "cell_type": "code",
   "execution_count": 4,
   "metadata": {},
   "outputs": [
    {
     "name": "stdout",
     "output_type": "stream",
     "text": [
      "Option price as a percentage of spot at x0 = 110 is 4.35%\n",
      "Wall time: 1.76 s\n"
     ]
    }
   ],
   "source": [
    "%%time\n",
    "\n",
    "import numpy as np\n",
    "import matplotlib.pyplot as plt\n",
    "from scipy.sparse import diags\n",
    "from scipy.sparse.linalg import spsolve\n",
    "\n",
    "def Crank_Nicolson_FDM_CEV(σ, r, K, B, T, Nx, Nt, β, m=2):  \n",
    "    xs = np.linspace(0, m*K, Nx+1) \n",
    "    Δx = xs[1]-xs[0]\n",
    "    Δt = T / Nt \n",
    "    # Initial Condition requires an addition step to set prices above x=120 to zero\n",
    "    V = np.maximum(xs-K, 0) \n",
    "    V[0:int(B/Δx)] = 0   \n",
    "\n",
    "    # Set up RHS matrix diagonals\n",
    "    d0 = 1 + 0.5*(-σ**2 * np.power(xs,2.*β)*Δt/Δx**2 - r*Δt)\n",
    "    d1 = 0.25*(r*xs[0:-1]*Δt/Δx + σ**2 * np.power(xs[0:-1],2.*β)*Δt/Δx**2)\n",
    "    dm1 = 0.25*(σ**2 * np.power(xs[1:],2.*β)*Δt/Δx**2 - r*xs[1:]*Δt/Δx)\n",
    "    # Boundary condition for small asset price\n",
    "    d0[0] = 1\n",
    "    d1[0] = 0\n",
    "    # Boundary condition for large asset price\n",
    "    d0[-1] = 0\n",
    "    dm1[-1] = 0\n",
    "    B = diags([dm1,d0,d1], [-1, 0, 1], shape=(Nx+1,Nx+1), dtype=float)\n",
    "\n",
    "    # Set up LHS matrix diagonals\n",
    "    d0 = 2-d0\n",
    "    d1 = -d1\n",
    "    dm1 = -dm1\n",
    "    dm2 = np.zeros(Nx-1)\n",
    "    \n",
    "    # Boundary condition for small asset price\n",
    "    d0[0] = 1/(1 - r * Δt) \n",
    "    d1[0] = 0\n",
    "    # Boundary condition for large asset price\n",
    "    d0[-1] = 1\n",
    "    dm1[-1] = -2\n",
    "    dm2[-1] = 1\n",
    "    # Construct LHS matrix\n",
    "    A = diags([dm2,dm1,d0,d1], [-2,-1, 0, 1], shape=(Nx+1,Nx+1), dtype=float)\n",
    "    A = A.tocsr()    \n",
    "    for t in range(Nt):\n",
    "        V = B.dot(V)\n",
    "        V = spsolve(A,V)\n",
    "  \n",
    "    return V, xs\n",
    "\n",
    "Nx = 5000; Nt = 500\n",
    "V3, xs3 = Crank_Nicolson_FDM_CEV(σ, r, K, B, T, Nx, Nt, β, m)\n",
    "print('Option price as a percentage of spot at x0 = {0:.0f} is {1:.2%}'.format(X0, V3[int(X0*Nx/(m*K))] / X0))"
   ]
  },
  {
   "cell_type": "code",
   "execution_count": 21,
   "metadata": {},
   "outputs": [
    {
     "data": {
      "image/png": "[encoded data removed]",
      "text/plain": [
       "<Figure size 432x288 with 1 Axes>"
      ]
     },
     "metadata": {
      "needs_background": "light"
     },
     "output_type": "display_data"
    }
   ],
   "source": [
    "%matplotlib inline\n",
    "\n",
    "plt.plot(xs1, V1, xs2, V2, xs3, V3)\n",
    "plt.title(\"EKO call: strike = 100 & barrier = 120\");"
   ]
  },
  {
   "cell_type": "code",
   "execution_count": null,
   "metadata": {},
   "outputs": [],
   "source": []
  }
 ],
 "metadata": {
  "kernelspec": {
   "display_name": "Python 3",
   "language": "python",
   "name": "python3"
  },
  "language_info": {
   "codemirror_mode": {
    "name": "ipython",
    "version": 3
   },
   "file_extension": ".py",
   "mimetype": "text/x-python",
   "name": "python",
   "nbconvert_exporter": "python",
   "pygments_lexer": "ipython3",
   "version": "3.7.6"
  }
 },
 "nbformat": 4,
 "nbformat_minor": 2
}
