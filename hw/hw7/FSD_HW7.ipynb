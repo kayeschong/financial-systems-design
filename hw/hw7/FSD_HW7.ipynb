{
 "cells": [
  {
   "cell_type": "markdown",
   "metadata": {},
   "source": [
    "# Financial Systems Design Homework 7\n",
    "### Completed by: Rachel, Sarah, Peng Heng, Yu Kai"
   ]
  },
  {
   "cell_type": "code",
   "execution_count": 1,
   "metadata": {},
   "outputs": [],
   "source": [
    "import ipyparallel as ipp\n",
    "import multiprocessing as mp\n",
    "import numpy as np\n",
    "import math\n",
    "\n",
    "rc = ipp.Client()\n",
    "dview = rc[:]"
   ]
  },
  {
   "cell_type": "markdown",
   "metadata": {},
   "source": [
    "## Q1\n",
    "(a) Use the Standard Monte Carlo method to price the option. Recall that the price of the options is ~4.35% of X0 based on the previous homework assignment. Therefore, try experimenting with the lowest number of simulations and number of steps to get close to this value. Report your results."
   ]
  },
  {
   "cell_type": "code",
   "execution_count": 2,
   "metadata": {},
   "outputs": [],
   "source": [
    "def MC_CEV_Milstein_EKI_Call(S0,K,B,T,σ,r,β,it,steps):\n",
    "    import math, numpy as np\n",
    "    Δt = T/steps\n",
    "    S = S0*np.ones(it)\n",
    "    for t in range(steps):\n",
    "        S += (r*S*Δt + σ*S**β*math.sqrt(Δt)*z[:,t] # updating the asset price to t+1 using Milstein scheme\n",
    "              + 0.5*β*σ**2*S**(2*β-1)*Δt*(np.power(z[:,t],2)-1))\n",
    "    KO = S>B\n",
    "    V = math.exp(-r*T)*np.maximum(S-K,0)*KO\n",
    "    return (np.average(V), np.var(V))\n",
    "\n",
    "# define a function to reuse the code for calculating the combined sample average and standard error\n",
    "def process_result(result, n_engs, N_per_eng):    \n",
    "    px = [x[0] for x in result]   \n",
    "    price = np.average(px)\n",
    "    \n",
    "    φ = sum(var[1] for var in result)*N_per_eng                   # sum of numerators of variance for each engine's sample\n",
    "    for i in range(1, n_engs):                      \n",
    "        φ += N_per_eng*i/(i+1)*(px[i] - np.average(px[0:i]))**2   # loop to add the incremental adjustment factors \n",
    "\n",
    "    stderr = math.sqrt((φ / (n_engs*N_per_eng-1)) / (n_engs*N_per_eng))  # calculate standard error using φ\n",
    "\n",
    "    return price, stderr"
   ]
  },
  {
   "cell_type": "code",
   "execution_count": 3,
   "metadata": {},
   "outputs": [
    {
     "name": "stdout",
     "output_type": "stream",
     "text": [
      "Expected Price 4.785\n",
      "\n",
      "1000 simulations using 5 steps\n",
      "Milstein Scheme: Price = 4.759 standard error = 0.2612\n",
      "\n",
      "1000 simulations using 10 steps\n",
      "Milstein Scheme: Price = 4.66 standard error = 0.2579\n",
      "\n",
      "1000 simulations using 20 steps\n",
      "Milstein Scheme: Price = 4.542 standard error = 0.2592\n",
      "\n",
      "1000 simulations using 30 steps\n",
      "Milstein Scheme: Price = 4.568 standard error = 0.2594\n",
      "\n",
      "1000 simulations using 40 steps\n",
      "Milstein Scheme: Price = 4.583 standard error = 0.2576\n",
      "\n",
      "10000 simulations using 5 steps\n",
      "Milstein Scheme: Price = 4.838 standard error = 0.08311\n",
      "\n",
      "10000 simulations using 10 steps\n",
      "Milstein Scheme: Price = 4.847 standard error = 0.08376\n",
      "\n",
      "10000 simulations using 20 steps\n",
      "Milstein Scheme: Price = 4.8 standard error = 0.08318\n",
      "\n",
      "10000 simulations using 30 steps\n",
      "Milstein Scheme: Price = 4.739 standard error = 0.08291\n",
      "\n",
      "10000 simulations using 40 steps\n",
      "Milstein Scheme: Price = 4.816 standard error = 0.08279\n",
      "\n",
      "100000 simulations using 5 steps\n",
      "Milstein Scheme: Price = 4.744 standard error = 0.02613\n",
      "\n",
      "100000 simulations using 10 steps\n",
      "Milstein Scheme: Price = 4.735 standard error = 0.02613\n",
      "\n",
      "100000 simulations using 20 steps\n",
      "Milstein Scheme: Price = 4.755 standard error = 0.02618\n",
      "\n",
      "100000 simulations using 30 steps\n",
      "Milstein Scheme: Price = 4.758 standard error = 0.02617\n",
      "\n",
      "100000 simulations using 40 steps\n",
      "Milstein Scheme: Price = 4.751 standard error = 0.02615\n",
      "\n"
     ]
    }
   ],
   "source": [
    "n_engs = len(rc) # number of engines running\n",
    "β = 0.75\n",
    "S0 = 110.; K = 100.; B = 115.; T = 0.5; r = 0.02; σ = 0.25 # parameters\n",
    "print(f'Expected Price {0.0435 * S0:.4}', )\n",
    "print()\n",
    "for N in [1000, 10000, 100000]:\n",
    "    N_per_eng = int(N / n_engs) # number of iterations per engine\n",
    "    for steps in [5, 10, 20, 30, 40]:\n",
    "        print(N, 'simulations', 'using', steps, 'steps')\n",
    "\n",
    "        prng = np.random.RandomState(42)\n",
    "        Z = prng.standard_normal((N_per_eng*n_engs,steps))\n",
    "        dview.scatter('z', Z)\n",
    "\n",
    "        result = dview.apply_sync(MC_CEV_Milstein_EKI_Call,S0,K,B,T,σ,r,β,N_per_eng,steps)\n",
    "        price, stderr = process_result(result, n_engs, N_per_eng)\n",
    "        print('Milstein Scheme: Price = {:.4}'.format(price), 'standard error = {:.4}'.format(stderr))\n",
    "        print()"
   ]
  },
  {
   "cell_type": "markdown",
   "metadata": {},
   "source": [
    "### 100,000 simulations with 20 steps are sufficient to get within 0.03 difference from the expected price with a low standard error of ~0.026"
   ]
  },
  {
   "cell_type": "markdown",
   "metadata": {},
   "source": [
    "## Q1\n",
    "(b) Use the asset price, XT , as a control variable to price (a) again. Implement the algorithm where each parallel process returns the covariance matrix of the partial sample then calculate the covariance matrix of the combined sample using the piecewise formula given in the lecture slides to fully take advantage of parallel processing."
   ]
  },
  {
   "cell_type": "code",
   "execution_count": 4,
   "metadata": {},
   "outputs": [],
   "source": [
    "def control_var(S0,K,B,T,σ,r,β,it,steps):\n",
    "    import math, numpy as np\n",
    "    \n",
    "    Δt = T/steps\n",
    "    S = S0*np.ones(it)\n",
    "    for t in range(steps):\n",
    "        S += (r*S*Δt + σ*S**β*math.sqrt(Δt)*z[:,t] # updating the asset price to t+1 using Milstein scheme\n",
    "              + 0.5*β*σ**2*S**(2*β-1)*Δt*(np.power(z[:,t],2)-1))\n",
    "\n",
    "    avgSpot = np.average(S)\n",
    "\n",
    "    KO = S>B\n",
    "    V = math.exp(-r*T)*np.maximum(S-K,0)*KO\n",
    "    \n",
    "    price = np.average(V)\n",
    "    cov = np.cov(S, V, ddof=0)\n",
    "    # + adj*(avgSpot - S0*math.exp(r*T))\n",
    "    \n",
    "    return ((price, avgSpot), cov)"
   ]
  },
  {
   "cell_type": "code",
   "execution_count": 5,
   "metadata": {},
   "outputs": [],
   "source": [
    "def process_control_var(result, n_engs, N_per_eng):\n",
    "    X = [x[0][0] for x in result]\n",
    "    Y = [x[0][1] for x in result]\n",
    "    covs = [item[1] for item in result]\n",
    "    φ = sum(cov[0, 1] for cov in covs) * N_per_eng\n",
    "    for i in range(1, n_engs):\n",
    "        φ += (i*N_per_eng)*N_per_eng / ((i+1)*N_per_eng) * (X[i] - np.average(X[0:i])) * (Y[i] - np.average(Y[0:i]))\n",
    "    cov = φ / (n_engs*(N_per_eng-1))\n",
    "    \n",
    "    φ = sum(var[0, 0] for var in covs)*N_per_eng                   # sum of numerators of variance for each engine's sample\n",
    "    for i in range(1, n_engs):                      \n",
    "        φ += N_per_eng*i/(i+1)*(X[i] - np.average(X[0:i]))**2   # loop to add the incremental adjustment factors \n",
    "\n",
    "    var = (φ / (n_engs*N_per_eng-1))\n",
    "    \n",
    "    price = np.average(X)\n",
    "    avgSpot = np.average(Y)\n",
    "\n",
    "    return price, avgSpot, var, cov"
   ]
  },
  {
   "cell_type": "code",
   "execution_count": 6,
   "metadata": {},
   "outputs": [
    {
     "name": "stdout",
     "output_type": "stream",
     "text": [
      "Expected Price 4.785\n",
      "\n",
      "100000 simulations using 20 steps\n",
      "Price: 4.755175899956466\n",
      "Adjusted price: 4.781660350722122\n"
     ]
    }
   ],
   "source": [
    "n_engs = len(rc) # number of engines running\n",
    "β = 0.75\n",
    "S0 = 110.; K = 100.; B = 115.; T = 0.5; r = 0.02; σ = 0.25 # parameters\n",
    "print(f'Expected Price {0.0435 * S0:.4}', )\n",
    "print()\n",
    "N = 100000\n",
    "N_per_eng = int(N / n_engs) # number of iterations per engine\n",
    "steps = 20\n",
    "print(N, 'simulations', 'using', steps, 'steps')\n",
    "\n",
    "prng = np.random.RandomState(42)\n",
    "Z = prng.standard_normal((N_per_eng*n_engs,steps))\n",
    "dview.scatter('z', Z)\n",
    "\n",
    "result = dview.apply_sync(control_var,S0,K,B,T,σ,r,β,N_per_eng,steps)\n",
    "price, avgSpot, var, cov = process_control_var(result, n_engs, N_per_eng)\n",
    "adj = -cov/var\n",
    "adj_price = price + adj*(avgSpot - S0*math.exp(r*T))\n",
    "print('Price:', price)\n",
    "print('Adjusted price:', adj_price)"
   ]
  },
  {
   "cell_type": "markdown",
   "metadata": {},
   "source": [
    "### From above, using asset price as a control variable reduces the amount of error from the estimate"
   ]
  },
  {
   "cell_type": "markdown",
   "metadata": {},
   "source": [
    "## Q1\n",
    "(c) Instead of the barrier being observed at maturity only, we will try and price the same option\n",
    "but with the barrier observed continuously which is called American Knock-In (AKI) in the\n",
    "industry. This means the option will knock in if the asset trades above the barrier at any point\n",
    "during the lifetime of the option. The price is ~6.5% of X0. Therefore, try experimenting with\n",
    "the lowest number of simulations and number of steps to get close to this value. How does\n",
    "the value of N or number of steps required to get to the appropriate accuracy compare to the\n",
    "EKI version of the option? (Hint: there are many possible ways to check the barrier condition\n",
    "but one potential way which is more memory efficient is to keep track of the maximum of the\n",
    "asset price in each simulation path)."
   ]
  },
  {
   "cell_type": "code",
   "execution_count": 7,
   "metadata": {},
   "outputs": [],
   "source": [
    "def MC_CEV_Milstein_EKI_Call_Continuous(S0,K,B,T,σ,r,β,it,steps):\n",
    "    import math, numpy as np\n",
    "    Δt = T/steps\n",
    "    S = S0*np.ones(it)\n",
    "    barrier_cross_count = np.zeros_like(S)\n",
    "    for t in range(steps):\n",
    "        S += (r*S*Δt + σ*S**β*math.sqrt(Δt)*z[:,t] # updating the asset price to t+1 using Milstein scheme\n",
    "              + 0.5*β*σ**2*S**(2*β-1)*Δt*(np.power(z[:,t],2)-1))\n",
    "        barrier_cross_count += (S>B).astype(int)\n",
    "    KO = barrier_cross_count > 0\n",
    "    V = math.exp(-r*T)*np.maximum(S-K,0)*KO\n",
    "    return (np.average(V), np.var(V))"
   ]
  },
  {
   "cell_type": "code",
   "execution_count": 8,
   "metadata": {},
   "outputs": [
    {
     "name": "stdout",
     "output_type": "stream",
     "text": [
      "Expected Price 7.15\n",
      "\n",
      "10000 simulations using 1000 steps\n",
      "Milstein Scheme: Price = 7.065 standard error = 0.08294\n",
      "\n",
      "10000 simulations using 1200 steps\n",
      "Milstein Scheme: Price = 6.969 standard error = 0.08299\n",
      "\n",
      "10000 simulations using 1400 steps\n",
      "Milstein Scheme: Price = 7.078 standard error = 0.08281\n",
      "\n",
      "10000 simulations using 1600 steps\n",
      "Milstein Scheme: Price = 7.138 standard error = 0.0835\n",
      "\n",
      "10000 simulations using 1800 steps\n",
      "Milstein Scheme: Price = 7.127 standard error = 0.08326\n",
      "\n",
      "10000 simulations using 2000 steps\n",
      "Milstein Scheme: Price = 7.1 standard error = 0.08307\n",
      "\n",
      "100000 simulations using 1000 steps\n",
      "Milstein Scheme: Price = 7.104 standard error = 0.02633\n",
      "\n",
      "100000 simulations using 1200 steps\n",
      "Milstein Scheme: Price = 7.108 standard error = 0.02632\n",
      "\n",
      "100000 simulations using 1400 steps\n",
      "Milstein Scheme: Price = 7.132 standard error = 0.02635\n",
      "\n",
      "100000 simulations using 1600 steps\n",
      "Milstein Scheme: Price = 7.131 standard error = 0.02637\n",
      "\n",
      "100000 simulations using 1800 steps\n",
      "Milstein Scheme: Price = 7.152 standard error = 0.02636\n",
      "\n",
      "100000 simulations using 2000 steps\n",
      "Milstein Scheme: Price = 7.124 standard error = 0.0263\n",
      "\n"
     ]
    }
   ],
   "source": [
    "n_engs = len(rc) # number of engines running\n",
    "β = 0.75\n",
    "S0 = 110.; K = 100.; B = 115.; T = 0.5; r = 0.02; σ = 0.25 # parameters\n",
    "print(f'Expected Price {0.065 * S0:.4}', )\n",
    "print()\n",
    "for N in [10000, 100000]:\n",
    "    N_per_eng = int(N / n_engs) # number of iterations per engine\n",
    "    for steps in range(1000, 2001, 200):\n",
    "        print(N, 'simulations', 'using', steps, 'steps')\n",
    "\n",
    "        prng = np.random.RandomState(42)\n",
    "        Z = prng.standard_normal((N_per_eng*n_engs,steps))\n",
    "        dview.scatter('z', Z)\n",
    "\n",
    "        result = dview.apply_sync(MC_CEV_Milstein_EKI_Call_Continuous,S0,K,B,T,σ,r,β,N_per_eng,steps)\n",
    "        price, stderr = process_result(result, n_engs, N_per_eng)\n",
    "        print('Milstein Scheme: Price = {:.4}'.format(price), 'standard error = {:.4}'.format(stderr))\n",
    "        print()"
   ]
  },
  {
   "cell_type": "markdown",
   "metadata": {},
   "source": [
    "### 100,000 simulations with 1800 steps are sufficient to get within 0.002 difference from the expected price with a low standard error of ~0.026"
   ]
  }
 ],
 "metadata": {
  "kernelspec": {
   "display_name": "Python 3",
   "language": "python",
   "name": "python3"
  },
  "language_info": {
   "codemirror_mode": {
    "name": "ipython",
    "version": 3
   },
   "file_extension": ".py",
   "mimetype": "text/x-python",
   "name": "python",
   "nbconvert_exporter": "python",
   "pygments_lexer": "ipython3",
   "version": "3.7.6"
  }
 },
 "nbformat": 4,
 "nbformat_minor": 4
}
